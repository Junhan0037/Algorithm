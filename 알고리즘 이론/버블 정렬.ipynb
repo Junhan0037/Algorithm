{
 "cells": [
  {
   "cell_type": "markdown",
   "metadata": {
    "collapsed": true,
    "pycharm": {
     "name": "#%% md\n"
    }
   },
   "source": [
    "### 2. 버블 정렬 (bubble sort) 란?\n",
    "* 두 인접한 데이터를 비교해서, 앞에 있는 데이터가 뒤에 있는 데이터보다 크면, 자리를 바꾸는 정렬 알고리즘\n",
    "\n",
    "#### 직접 눈으로 보면 더 이해가 쉽다: https://visualgo.net/en/sorting\n",
    "\n",
    "<img src=\"https://upload.wikimedia.org/wikipedia/commons/c/c8/Bubble-sort-example-300px.gif\" width=600/>\n",
    "\n",
    "> 출처: https://en.wikipedia.org/wiki/Bubble_sort"
   ]
  },
  {
   "cell_type": "code",
   "execution_count": 1,
   "outputs": [],
   "source": [
    "def bubblesort(data):\n",
    "    for index in range(len(data)-1):\n",
    "        swap = False # 스왑이 일어났는가\n",
    "        for index2 in range(len(data)-index-1):\n",
    "            if data[index2] > data[index2+1]:\n",
    "                data[index2], data[index2+1] = data[index2+1], data[index2]\n",
    "                swap = True\n",
    "\n",
    "        if swap == False: # 스왑이 일어나지 않았다면 종료\n",
    "            break\n",
    "    return data"
   ],
   "metadata": {
    "collapsed": false,
    "pycharm": {
     "name": "#%%\n"
    }
   }
  },
  {
   "cell_type": "code",
   "execution_count": 2,
   "outputs": [
    {
     "data": {
      "text/plain": "[4,\n 5,\n 6,\n 7,\n 9,\n 10,\n 13,\n 14,\n 15,\n 18,\n 22,\n 25,\n 27,\n 28,\n 29,\n 38,\n 39,\n 40,\n 42,\n 43,\n 44,\n 45,\n 46,\n 49,\n 50,\n 51,\n 54,\n 61,\n 63,\n 64,\n 65,\n 66,\n 71,\n 72,\n 73,\n 74,\n 76,\n 77,\n 78,\n 79,\n 81,\n 82,\n 85,\n 86,\n 87,\n 88,\n 90,\n 91,\n 95,\n 97]"
     },
     "execution_count": 2,
     "metadata": {},
     "output_type": "execute_result"
    }
   ],
   "source": [
    "import random\n",
    "data_list = random.sample(range(100), 50)\n",
    "bubblesort(data_list)"
   ],
   "metadata": {
    "collapsed": false,
    "pycharm": {
     "name": "#%%\n"
    }
   }
  },
  {
   "cell_type": "code",
   "source": [
    "# 버블정렬 - My\n",
    "def bubblesort(data):\n",
    "    for index in range(len(data)):\n",
    "        swap = False\n",
    "        for index2 in range(len(data)-index-1):\n",
    "            if data[index2] > data[index2+1]:\n",
    "                data[index2+1], data[index2] = data[index2], data[index2+1]\n",
    "                swap = True\n",
    "        if (swap == False):\n",
    "            break\n",
    "    return data"
   ],
   "metadata": {
    "collapsed": false,
    "pycharm": {
     "name": "#%%\n"
    }
   },
   "execution_count": 3,
   "outputs": []
  },
  {
   "cell_type": "code",
   "source": [
    "import random\n",
    "data_list = random.sample(range(100), 50)\n",
    "bubblesort(data_list)"
   ],
   "metadata": {
    "collapsed": false,
    "pycharm": {
     "name": "#%%\n"
    }
   },
   "execution_count": 4,
   "outputs": [
    {
     "data": {
      "text/plain": "[3,\n 5,\n 7,\n 8,\n 14,\n 16,\n 17,\n 18,\n 19,\n 22,\n 24,\n 26,\n 27,\n 29,\n 30,\n 31,\n 32,\n 33,\n 35,\n 37,\n 38,\n 43,\n 44,\n 45,\n 47,\n 48,\n 50,\n 53,\n 54,\n 59,\n 60,\n 61,\n 64,\n 66,\n 68,\n 69,\n 72,\n 75,\n 79,\n 80,\n 81,\n 84,\n 85,\n 87,\n 88,\n 90,\n 92,\n 94,\n 96,\n 98]"
     },
     "execution_count": 4,
     "metadata": {},
     "output_type": "execute_result"
    }
   ]
  },
  {
   "cell_type": "markdown",
   "source": [
    "### 5. 알고리즘 분석\n",
    "* 반복문이 두 개 O($n^2$)\n",
    "  - 최악의 경우, <font size=5em>$\\frac { n * (n - 1)}{ 2 }$</font>\n",
    "* 완전 정렬이 되어 있는 상태라면 최선은 O(n)\n"
   ],
   "metadata": {
    "collapsed": false,
    "pycharm": {
     "name": "#%% md\n"
    }
   }
  }
 ],
 "metadata": {
  "kernelspec": {
   "display_name": "Python 3",
   "language": "python",
   "name": "python3"
  },
  "language_info": {
   "codemirror_mode": {
    "name": "ipython",
    "version": 2
   },
   "file_extension": ".py",
   "mimetype": "text/x-python",
   "name": "python",
   "nbconvert_exporter": "python",
   "pygments_lexer": "ipython2",
   "version": "2.7.6"
  }
 },
 "nbformat": 4,
 "nbformat_minor": 0
}