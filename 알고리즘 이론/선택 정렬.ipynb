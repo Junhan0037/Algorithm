{
 "cells": [
  {
   "cell_type": "markdown",
   "metadata": {
    "collapsed": true,
    "pycharm": {
     "name": "#%% md\n"
    }
   },
   "source": [
    "### 1. 선택 정렬 (selection sort) 란?\n",
    "* 다음과 같은 순서를 반복하며 정렬하는 알고리즘\n",
    "  1. 주어진 데이터 중, 최소값을 찾음\n",
    "  2. 해당 최소값을 데이터 맨 앞에 위치한 값과 교체함\n",
    "  3. 맨 앞의 위치를 뺀 나머지 데이터를 동일한 방법으로 반복함\n",
    "\n",
    "#### 직접 눈으로 보면 더 이해가 쉽다: https://visualgo.net/en/sorting\n",
    "\n",
    "<img src=\"https://upload.wikimedia.org/wikipedia/commons/9/94/Selection-Sort-Animation.gif\" width=100>\n",
    "\n",
    "출처: https://en.wikipedia.org/wiki/Selection_sort"
   ]
  },
  {
   "cell_type": "code",
   "execution_count": 1,
   "outputs": [],
   "source": [
    "def selection_sort(data):\n",
    "    for stand in range(len(data)-1):\n",
    "        lowest = stand\n",
    "        for index in range(stand+1, len(data)):\n",
    "            if data[lowest] > data[index]:\n",
    "                lowest = index\n",
    "        data[lowest], data[stand] = data[stand], data[lowest]\n",
    "    return data"
   ],
   "metadata": {
    "collapsed": false,
    "pycharm": {
     "name": "#%%\n"
    }
   }
  },
  {
   "cell_type": "code",
   "execution_count": 2,
   "outputs": [
    {
     "data": {
      "text/plain": "[9,\n 10,\n 11,\n 15,\n 16,\n 18,\n 19,\n 20,\n 23,\n 25,\n 26,\n 27,\n 28,\n 30,\n 31,\n 32,\n 33,\n 36,\n 37,\n 39,\n 40,\n 41,\n 43,\n 44,\n 47,\n 49,\n 51,\n 54,\n 56,\n 60,\n 61,\n 62,\n 64,\n 66,\n 67,\n 70,\n 74,\n 77,\n 78,\n 80,\n 81,\n 83,\n 84,\n 86,\n 89,\n 90,\n 91,\n 93,\n 95,\n 99]"
     },
     "execution_count": 2,
     "metadata": {},
     "output_type": "execute_result"
    }
   ],
   "source": [
    "import random\n",
    "data_list = random.sample(range(100), 50)\n",
    "selection_sort(data_list)"
   ],
   "metadata": {
    "collapsed": false,
    "pycharm": {
     "name": "#%%\n"
    }
   }
  },
  {
   "cell_type": "code",
   "execution_count": 3,
   "outputs": [],
   "source": [
    "# 선택정렬 - My\n",
    "def selection_sort(data):\n",
    "    for stand in range(len(data)):\n",
    "        for index in range(stand+1, len(data)):\n",
    "            if data[stand] > data[index]:\n",
    "                data[stand], data[index] = data[index], data[stand]\n",
    "    return data"
   ],
   "metadata": {
    "collapsed": false,
    "pycharm": {
     "name": "#%%\n"
    }
   }
  },
  {
   "cell_type": "code",
   "execution_count": 4,
   "outputs": [
    {
     "data": {
      "text/plain": "[1,\n 2,\n 6,\n 8,\n 9,\n 10,\n 12,\n 18,\n 19,\n 21,\n 22,\n 23,\n 26,\n 27,\n 28,\n 29,\n 30,\n 33,\n 37,\n 40,\n 42,\n 44,\n 46,\n 47,\n 49,\n 52,\n 55,\n 56,\n 57,\n 58,\n 59,\n 61,\n 62,\n 63,\n 66,\n 69,\n 71,\n 72,\n 75,\n 78,\n 81,\n 87,\n 88,\n 90,\n 91,\n 92,\n 93,\n 95,\n 96,\n 99]"
     },
     "execution_count": 4,
     "metadata": {},
     "output_type": "execute_result"
    }
   ],
   "source": [
    "import random\n",
    "data_list = random.sample(range(100), 50)\n",
    "selection_sort(data_list)"
   ],
   "metadata": {
    "collapsed": false,
    "pycharm": {
     "name": "#%%\n"
    }
   }
  },
  {
   "cell_type": "code",
   "execution_count": 4,
   "outputs": [],
   "source": [
    "\n"
   ],
   "metadata": {
    "collapsed": false,
    "pycharm": {
     "name": "#%%\n"
    }
   }
  }
 ],
 "metadata": {
  "kernelspec": {
   "display_name": "Python 3",
   "language": "python",
   "name": "python3"
  },
  "language_info": {
   "codemirror_mode": {
    "name": "ipython",
    "version": 2
   },
   "file_extension": ".py",
   "mimetype": "text/x-python",
   "name": "python",
   "nbconvert_exporter": "python",
   "pygments_lexer": "ipython2",
   "version": "2.7.6"
  }
 },
 "nbformat": 4,
 "nbformat_minor": 0
}