{
 "cells": [
  {
   "cell_type": "markdown",
   "metadata": {
    "collapsed": true,
    "pycharm": {
     "name": "#%% md\n"
    }
   },
   "source": [
    "### 1. 신장 트리 란?\n",
    "- Spanning Tree, 또는 신장 트리 라고 불리움 (Spanning Tree가 보다 자연스러워 보임)\n",
    "- 원래의 그래프의 모든 노드가 연결되어 있으면서 트리의 속성을 만족하는 그래프\n",
    "- 신장 트리의 조건\n",
    "  - 본래의 그래프의 모든 노드를 포함해야 함\n",
    "  - 모든 노드가 서로 연결\n",
    "  - 트리의 속성을 만족시킴 (사이클이 존재하지 않음)\n",
    "\n",
    " <img src=\"https://www.fun-coding.org/00_Images/spanningtree.png\">\n",
    "\n",
    "### 2. 최소 신장 트리\n",
    "- Minimum Spanning Tree, MST 라고 불리움\n",
    "- 가능한 Spanning Tree 중에서, 간선의 가중치 합이 최소인 Spanning Tree를 지칭함\n",
    "\n",
    "<img src=\"https://www.fun-coding.org/00_Images/mst.png\" width=600>\n",
    "\n",
    "### 4. 크루스칼 알고리즘 (Kruskal's algorithm)\n",
    "1. 모든 정점을 독립적인 집합으로 만든다.\n",
    "2. 모든 간선을 비용을 기준으로 정렬하고, 비용이 작은 간선부터 양 끝의 두 정점을 비교한다.\n",
    "3. 두 정점의 최상위 정점을 확인하고, 서로 다를 경우 두 정점을 연결한다. (최소 신장 트리는 사이클이 없으므로, 사이클이 생기지 않도록 하는 것임)\n",
    "\n",
    "> 탐욕 알고리즘을 기초로 하고 있음 (당장 눈 앞의 최소 비용을 선택해서, 결과적으로 최적의 솔루션을 찾음)\n",
    "\n",
    "<img src=\"https://www.fun-coding.org/00_Images/kruscal_internal1.png\" width=650>\n",
    "\n",
    "<img src=\"https://www.fun-coding.org/00_Images/kruscal_internal2.png\" width=800>"
   ]
  },
  {
   "cell_type": "code",
   "execution_count": 1,
   "outputs": [],
   "source": [
    "mygraph = {\n",
    "    'vertices': ['A', 'B', 'C', 'D', 'E', 'F', 'G'],\n",
    "    'edges': [\n",
    "        (7, 'A', 'B'),\n",
    "        (5, 'A', 'D'),\n",
    "        (7, 'B', 'A'),\n",
    "        (8, 'B', 'C'),\n",
    "        (9, 'B', 'D'),\n",
    "        (7, 'B', 'E'),\n",
    "        (8, 'C', 'B'),\n",
    "        (5, 'C', 'E'),\n",
    "        (5, 'D', 'A'),\n",
    "        (9, 'D', 'B'),\n",
    "        (7, 'D', 'E'),\n",
    "        (6, 'D', 'F'),\n",
    "        (7, 'E', 'B'),\n",
    "        (5, 'E', 'C'),\n",
    "        (7, 'E', 'D'),\n",
    "        (8, 'E', 'F'),\n",
    "        (9, 'E', 'G'),\n",
    "        (6, 'F', 'D'),\n",
    "        (8, 'F', 'E'),\n",
    "        (11, 'F', 'G'),\n",
    "        (9, 'G', 'E'),\n",
    "        (11, 'G', 'F')\n",
    "    ]\n",
    "}"
   ],
   "metadata": {
    "collapsed": false,
    "pycharm": {
     "name": "#%%\n"
    }
   }
  },
  {
   "cell_type": "code",
   "execution_count": 2,
   "outputs": [],
   "source": [
    "parent = dict() # 부모 노드\n",
    "rank = dict() # 랭크 (트리 높이)\n",
    "\n",
    "def make_set(node):\n",
    "    parent[node] = node\n",
    "    rank[node] = 0\n",
    "\n",
    "def find(node):\n",
    "    # path compression 기법\n",
    "    if parent[node] != node: # 부모 노드가 있는 경우\n",
    "        parent[node] = find(parent[node]) # 루트 노드를 찾아 재귀 호출\n",
    "    return parent[node] # 최종적으로 루트 노드가 리턴\n",
    "\n",
    "def union(node_v, node_u):\n",
    "    root1 = find(node_v)\n",
    "    root2 = find(node_u)\n",
    "\n",
    "    # union-by-rank 기법\n",
    "    if rank[root1] > rank[root2]:\n",
    "        parent[root2] = root1\n",
    "    else:\n",
    "        parent[root1] = root2 # root1이나 root2의 높이를 하나 올려주고 부모노드로 지정\n",
    "        if rank[root1] == rank[root2]: # 트리의 높이가 같은 경우\n",
    "            rank[root2] += 1\n",
    "\n",
    "def kruskal(graph):\n",
    "    mst = list()\n",
    "\n",
    "    # 1. 초기화\n",
    "    for node in graph['vertices']:\n",
    "        make_set(node) # 초기화\n",
    "\n",
    "    # 2. 간선 weight 기반 sorting\n",
    "    edges = graph['edges']\n",
    "    edges.sort() # 간선의 길이가 짧은순으로 정렬\n",
    "\n",
    "    # 3. 간선 연결 (사이클 없는)\n",
    "    for edge in edges:\n",
    "        weight, node_v, node_u = edge # 간선, 노드, 노드\n",
    "        if find(node_v) != find(node_u): # 각 노드의 루트노드를 비교 (사이클이 안생기는 경우)\n",
    "            union(node_v, node_u) # 두개의 트리를 연결 (각 부분집합을 합친다)\n",
    "            mst.append(edge)\n",
    "\n",
    "    return mst"
   ],
   "metadata": {
    "collapsed": false,
    "pycharm": {
     "name": "#%%\n"
    }
   }
  },
  {
   "cell_type": "code",
   "execution_count": 3,
   "outputs": [
    {
     "data": {
      "text/plain": "[(5, 'A', 'D'),\n (5, 'C', 'E'),\n (6, 'D', 'F'),\n (7, 'A', 'B'),\n (7, 'B', 'E'),\n (9, 'E', 'G')]"
     },
     "execution_count": 3,
     "metadata": {},
     "output_type": "execute_result"
    }
   ],
   "source": [
    "kruskal(mygraph)"
   ],
   "metadata": {
    "collapsed": false,
    "pycharm": {
     "name": "#%%\n"
    }
   }
  },
  {
   "cell_type": "markdown",
   "source": [
    "### 7. 시간 복잡도\n",
    "- 크루스컬 알고리즘의 시간 복잡도는 O(E log E)\n",
    "  - 다음 단계에서 2번, 간선을 비용 기준으로 정렬하는 시간에 좌우됨 (즉 간선을 비용 기준으로 정렬하는 시간이 가장 큼)\n",
    "  1. 모든 정점을 독립적인 집합으로 만든다.\n",
    "  2. 모든 간선을 비용을 기준으로 정렬하고, 비용이 작은 간선부터 양 끝의 두 정점을 비교한다.\n",
    "     - 퀵소트를 사용한다면 시간 복잡도는 O(n log n) 이며, 간선이 n 이므로 O(E log E)\n",
    "  3. 두 정점의 최상위 정점을 확인하고, 서로 다를 경우 두 정점을 연결한다. (최소 신장 트리는 사이클이 없으므로, 사이클이 생기지 않도록 하는 것임)\n",
    "     - union-by-rank 와 path compression 기법 사용시 시간 복잡도가 결국 상수값에 가까움, O(1)\n",
    "\n",
    "<img src=\"https://www.fun-coding.org/00_Images/kruscal_time.png\">"
   ],
   "metadata": {
    "collapsed": false,
    "pycharm": {
     "name": "#%% md\n"
    }
   }
  },
  {
   "cell_type": "code",
   "execution_count": 3,
   "outputs": [],
   "source": [
    "\n"
   ],
   "metadata": {
    "collapsed": false,
    "pycharm": {
     "name": "#%%\n"
    }
   }
  }
 ],
 "metadata": {
  "kernelspec": {
   "display_name": "Python 3",
   "language": "python",
   "name": "python3"
  },
  "language_info": {
   "codemirror_mode": {
    "name": "ipython",
    "version": 2
   },
   "file_extension": ".py",
   "mimetype": "text/x-python",
   "name": "python",
   "nbconvert_exporter": "python",
   "pygments_lexer": "ipython2",
   "version": "2.7.6"
  }
 },
 "nbformat": 4,
 "nbformat_minor": 0
}