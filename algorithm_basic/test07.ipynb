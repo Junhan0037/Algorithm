{
 "cells": [
  {
   "cell_type": "code",
   "execution_count": 2,
   "metadata": {
    "collapsed": true
   },
   "outputs": [
    {
     "name": "stdout",
     "output_type": "stream",
     "text": [
      "[5, 10, 11, 15, 32, 54, 66, 77]\n"
     ]
    }
   ],
   "source": [
    "# 병합정렬 (처리과정이 빠르다)\n",
    "# 분할, 정복\n",
    "입력값 = [5, 10, 66, 77, 54, 32, 11, 15]\n",
    "\n",
    "def 병합_정렬(입력리스트):\n",
    "    입력리스트의길이 = len(입력리스트)\n",
    "    결과값 = []\n",
    "    if 입력리스트의길이 <= 1:\n",
    "        return 입력리스트\n",
    "    중간값 = 입력리스트의길이 // 2\n",
    "    그룹_하나 = 병합_정렬(입력리스트[:중간값])\n",
    "    그룹_둘 = 병합_정렬(입력리스트[중간값:])\n",
    "\n",
    "    while 그룹_하나 and 그룹_둘:\n",
    "        if 그룹_하나[0] < 그룹_둘[0]:\n",
    "            결과값.append(그룹_하나.pop(0))\n",
    "        else:\n",
    "            결과값.append(그룹_둘.pop(0))\n",
    "    while 그룹_하나:\n",
    "        결과값.append(그룹_하나.pop(0))\n",
    "    while 그룹_둘:\n",
    "        결과값.append(그룹_둘.pop(0))\n",
    "    return 결과값\n",
    "\n",
    "print(병합_정렬(입력값))"
   ]
  },
  {
   "cell_type": "code",
   "execution_count": 1,
   "outputs": [],
   "source": [
    "\n"
   ],
   "metadata": {
    "collapsed": false,
    "pycharm": {
     "name": "#%%\n"
    }
   }
  }
 ],
 "metadata": {
  "kernelspec": {
   "display_name": "Python 3",
   "language": "python",
   "name": "python3"
  },
  "language_info": {
   "codemirror_mode": {
    "name": "ipython",
    "version": 2
   },
   "file_extension": ".py",
   "mimetype": "text/x-python",
   "name": "python",
   "nbconvert_exporter": "python",
   "pygments_lexer": "ipython2",
   "version": "2.7.6"
  }
 },
 "nbformat": 4,
 "nbformat_minor": 0
}