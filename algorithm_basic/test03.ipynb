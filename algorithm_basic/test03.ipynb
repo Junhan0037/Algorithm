{
 "cells": [
  {
   "cell_type": "code",
   "execution_count": 1,
   "metadata": {
    "collapsed": true
   },
   "outputs": [],
   "source": [
    "# 문제 접근 방법\n",
    "# 1. 반복문의 경우는 Bottom-up(작은 문제에서 출발)\n",
    "# 2. 재귀의 경우는 Top-down(큰 문제에서 출발)\n",
    "\n",
    "# 재귀의 경우에는 꼭 종료조건이 있어야 합니다."
   ]
  },
  {
   "cell_type": "code",
   "execution_count": 2,
   "outputs": [
    {
     "name": "stdout",
     "output_type": "stream",
     "text": [
      "55\n"
     ]
    }
   ],
   "source": [
    "x = 0\n",
    "for i in range(1, 11):\n",
    "    x += i\n",
    "\n",
    "print(x)"
   ],
   "metadata": {
    "collapsed": false,
    "pycharm": {
     "name": "#%%\n"
    }
   }
  },
  {
   "cell_type": "code",
   "execution_count": 3,
   "outputs": [
    {
     "name": "stdout",
     "output_type": "stream",
     "text": [
      "55\n"
     ]
    }
   ],
   "source": [
    "def f(n):\n",
    "    if n <= 1:\n",
    "        return 1\n",
    "    else:\n",
    "        return n + f(n-1)\n",
    "\n",
    "print(f(10))"
   ],
   "metadata": {
    "collapsed": false,
    "pycharm": {
     "name": "#%%\n"
    }
   }
  },
  {
   "cell_type": "code",
   "execution_count": 4,
   "outputs": [],
   "source": [
    "# while True:\n",
    "#     if input('##') == 'exit':\n",
    "#         break\n",
    "#     if input('##') == 'hi':\n",
    "#         print('hello world')\n",
    "#     else:\n",
    "#         continue"
   ],
   "metadata": {
    "collapsed": false,
    "pycharm": {
     "name": "#%%\n"
    }
   }
  },
  {
   "cell_type": "code",
   "execution_count": 5,
   "outputs": [],
   "source": [
    "# def console():\n",
    "#     if input('##') == 'exit':\n",
    "#         return None\n",
    "#     if input('##') == 'hi':\n",
    "#         print('hello world')\n",
    "#     console()\n",
    "#\n",
    "# console()"
   ],
   "metadata": {
    "collapsed": false,
    "pycharm": {
     "name": "#%%\n"
    }
   }
  },
  {
   "cell_type": "code",
   "execution_count": 6,
   "outputs": [
    {
     "name": "stdout",
     "output_type": "stream",
     "text": [
      "1011\n",
      "0o13\n",
      "0xb\n"
     ]
    }
   ],
   "source": [
    "# 2진수 구하기\n",
    "print(bin(11)[2:]) # 2진수\n",
    "print(oct(11)) # 8진수\n",
    "print(hex(11)) # 16진수"
   ],
   "metadata": {
    "collapsed": false,
    "pycharm": {
     "name": "#%%\n"
    }
   }
  },
  {
   "cell_type": "code",
   "execution_count": 8,
   "outputs": [
    {
     "name": "stdout",
     "output_type": "stream",
     "text": [
      "1011\n"
     ]
    }
   ],
   "source": [
    "# 2진수 구하기 - 반복문\n",
    "x = int(input('2진수로 바꿀 숫자를 입력하세요 : '))\n",
    "result = ''\n",
    "while True:\n",
    "    if x % 2 == 0:\n",
    "        result += '0'\n",
    "    else:\n",
    "        result += '1'\n",
    "    x = x // 2\n",
    "    if x == 1:\n",
    "        result += str(x)\n",
    "        print(result[::-1])\n",
    "        break"
   ],
   "metadata": {
    "collapsed": false,
    "pycharm": {
     "name": "#%%\n"
    }
   }
  },
  {
   "cell_type": "code",
   "execution_count": 12,
   "outputs": [
    {
     "name": "stdout",
     "output_type": "stream",
     "text": [
      "1011\n"
     ]
    }
   ],
   "source": [
    "def 이진수구하기(x):\n",
    "    if x < 2:\n",
    "        return str(x)\n",
    "    else:\n",
    "        return str(이진수구하기(x//2)) + str(x%2)\n",
    "\n",
    "print(이진수구하기(11))"
   ],
   "metadata": {
    "collapsed": false,
    "pycharm": {
     "name": "#%%\n"
    }
   }
  },
  {
   "cell_type": "code",
   "execution_count": 2,
   "outputs": [
    {
     "name": "stdout",
     "output_type": "stream",
     "text": [
      "nahnuj\n"
     ]
    }
   ],
   "source": [
    "result = []\n",
    "def 문자열뒤집기(x):\n",
    "    if x == '':\n",
    "        return None\n",
    "    else:\n",
    "        문자열뒤집기(x[1:])\n",
    "        result.append(x[0])\n",
    "        return ''.join(result)\n",
    "\n",
    "print(문자열뒤집기('junhan'))"
   ],
   "metadata": {
    "collapsed": false,
    "pycharm": {
     "name": "#%%\n"
    }
   }
  },
  {
   "cell_type": "code",
   "execution_count": 36,
   "outputs": [
    {
     "name": "stdout",
     "output_type": "stream",
     "text": [
      "nahnuj\n"
     ]
    }
   ],
   "source": [
    "result = ''\n",
    "for i in 'junhan':\n",
    "    result = i + result\n",
    "\n",
    "print(result)"
   ],
   "metadata": {
    "collapsed": false,
    "pycharm": {
     "name": "#%%\n"
    }
   }
  },
  {
   "cell_type": "code",
   "execution_count": 3,
   "outputs": [
    {
     "name": "stdout",
     "output_type": "stream",
     "text": [
      "8\n"
     ]
    }
   ],
   "source": [
    "x = 0\n",
    "for i in '2231':\n",
    "    x += int(i)\n",
    "\n",
    "print(x)"
   ],
   "metadata": {
    "collapsed": false,
    "pycharm": {
     "name": "#%%\n"
    }
   }
  },
  {
   "cell_type": "code",
   "execution_count": 4,
   "outputs": [
    {
     "name": "stdout",
     "output_type": "stream",
     "text": [
      "8\n"
     ]
    }
   ],
   "source": [
    "def 자릿수더하기(x):\n",
    "    if x == '':\n",
    "        return 0\n",
    "    else:\n",
    "        return int(x[0]) + int(자릿수더하기(x[1:]))\n",
    "\n",
    "print(자릿수더하기('2231'))\n"
   ],
   "metadata": {
    "collapsed": false,
    "pycharm": {
     "name": "#%%\n"
    }
   }
  }
 ],
 "metadata": {
  "kernelspec": {
   "display_name": "Python 3",
   "language": "python",
   "name": "python3"
  },
  "language_info": {
   "codemirror_mode": {
    "name": "ipython",
    "version": 2
   },
   "file_extension": ".py",
   "mimetype": "text/x-python",
   "name": "python",
   "nbconvert_exporter": "python",
   "pygments_lexer": "ipython2",
   "version": "2.7.6"
  }
 },
 "nbformat": 4,
 "nbformat_minor": 0
}