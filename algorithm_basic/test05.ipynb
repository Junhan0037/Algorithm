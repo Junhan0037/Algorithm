{
 "cells": [
  {
   "cell_type": "code",
   "execution_count": 2,
   "metadata": {
    "collapsed": true
   },
   "outputs": [
    {
     "name": "stdout",
     "output_type": "stream",
     "text": [
      "[5, 10, 11, 15, 32, 54, 66, 77]\n"
     ]
    }
   ],
   "source": [
    "# 선택정렬\n",
    "입력값 = [5, 10, 66, 77, 54, 32, 11, 15]\n",
    "정렬된리스트 = []\n",
    "\n",
    "while 입력값:\n",
    "    정렬된리스트.append(min(입력값))\n",
    "    입력값.pop(입력값.index(min(입력값)))\n",
    "\n",
    "print(정렬된리스트)"
   ]
  },
  {
   "cell_type": "code",
   "execution_count": 7,
   "outputs": [
    {
     "name": "stdout",
     "output_type": "stream",
     "text": [
      "5\n"
     ]
    }
   ],
   "source": [
    "입력값 = [5, 10, 66, 77, 54, 32, 11, 15]\n",
    "def 최솟값_인덱스(l):\n",
    "    비교값 = l[0]\n",
    "    인덱스 = 0\n",
    "    for i in range(len(l)):\n",
    "        if l[i] < 비교값:\n",
    "            인덱스 = i\n",
    "    return 인덱스\n",
    "\n",
    "print(최솟값_인덱스(입력값))"
   ],
   "metadata": {
    "collapsed": false,
    "pycharm": {
     "name": "#%%\n"
    }
   }
  },
  {
   "cell_type": "code",
   "execution_count": null,
   "outputs": [],
   "source": [
    "# 선택정렬\n",
    "입력값 = [5, 10, 66, 77, 54, 32, 11, 15]\n",
    "정렬된리스트 = []\n",
    "\n",
    "while 입력값:\n",
    "    정렬된리스트.append(min(입력값))\n",
    "    입력값.pop(입력값.index(min(입력값)))\n",
    "\n",
    "print(정렬된리스트)\n"
   ],
   "metadata": {
    "collapsed": false,
    "pycharm": {
     "name": "#%%\n"
    }
   }
  }
 ],
 "metadata": {
  "kernelspec": {
   "display_name": "Python 3",
   "language": "python",
   "name": "python3"
  },
  "language_info": {
   "codemirror_mode": {
    "name": "ipython",
    "version": 2
   },
   "file_extension": ".py",
   "mimetype": "text/x-python",
   "name": "python",
   "nbconvert_exporter": "python",
   "pygments_lexer": "ipython2",
   "version": "2.7.6"
  }
 },
 "nbformat": 4,
 "nbformat_minor": 0
}