{
 "cells": [
  {
   "cell_type": "code",
   "execution_count": 2,
   "metadata": {
    "collapsed": true
   },
   "outputs": [
    {
     "name": "stdout",
     "output_type": "stream",
     "text": [
      "4\n",
      "3\n",
      "2\n",
      "1\n",
      "0\n",
      "ended\n",
      "returned 0\n",
      "returned 1\n",
      "returned 2\n",
      "returned 3\n",
      "returned 4\n"
     ]
    }
   ],
   "source": [
    "# 재귀 함수\n",
    "\n",
    "def recursive(data):\n",
    "    if data < 0:\n",
    "        print(\"ended\")\n",
    "    else:\n",
    "        print(data)\n",
    "        recursive(data - 1)\n",
    "        print(\"returned\", data)\n",
    "\n",
    "recursive(4)"
   ]
  },
  {
   "cell_type": "code",
   "execution_count": null,
   "outputs": [],
   "source": [
    "\n"
   ],
   "metadata": {
    "collapsed": false,
    "pycharm": {
     "name": "#%%\n"
    }
   }
  }
 ],
 "metadata": {
  "kernelspec": {
   "display_name": "Python 3",
   "language": "python",
   "name": "python3"
  },
  "language_info": {
   "codemirror_mode": {
    "name": "ipython",
    "version": 2
   },
   "file_extension": ".py",
   "mimetype": "text/x-python",
   "name": "python",
   "nbconvert_exporter": "python",
   "pygments_lexer": "ipython2",
   "version": "2.7.6"
  }
 },
 "nbformat": 4,
 "nbformat_minor": 0
}