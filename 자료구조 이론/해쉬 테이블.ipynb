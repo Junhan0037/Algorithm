{
 "cells": [
  {
   "cell_type": "code",
   "execution_count": 1,
   "metadata": {
    "collapsed": true
   },
   "outputs": [
    {
     "data": {
      "text/plain": "[0, 0, 0, 0, 0, 0, 0, 0, 0, 0]"
     },
     "execution_count": 1,
     "metadata": {},
     "output_type": "execute_result"
    }
   ],
   "source": [
    "# hash table 만들기\n",
    "hash_table = list([0 for i in range(10)])\n",
    "hash_table"
   ]
  },
  {
   "cell_type": "code",
   "execution_count": 2,
   "outputs": [],
   "source": [
    "# 해쉬 함수 만들기\n",
    "def hash_func(key):\n",
    "    return key % 5"
   ],
   "metadata": {
    "collapsed": false,
    "pycharm": {
     "name": "#%%\n"
    }
   }
  },
  {
   "cell_type": "code",
   "execution_count": 3,
   "outputs": [
    {
     "name": "stdout",
     "output_type": "stream",
     "text": [
      "65 68 84\n",
      "65 0\n"
     ]
    }
   ],
   "source": [
    "# 해쉬 테이블에 저장\n",
    "data1 = 'Andy'\n",
    "data2 = 'Dave'\n",
    "data3 = 'Trump'\n",
    "\n",
    "# ord() : 문자의 ASCII(아스키) 코드 리턴\n",
    "print(ord(data1[0]), ord(data2[0]), ord(data3[0]))\n",
    "print(ord(data1[0]), hash_func(ord(data1[0])))"
   ],
   "metadata": {
    "collapsed": false,
    "pycharm": {
     "name": "#%%\n"
    }
   }
  },
  {
   "cell_type": "code",
   "execution_count": 4,
   "outputs": [],
   "source": [
    "# 해쉬 테이블에 값 저장\n",
    "def storage_data(data, value):\n",
    "    key = ord(data[0])\n",
    "    hash_address = hash_func(key)\n",
    "    hash_table[hash_address] = value"
   ],
   "metadata": {
    "collapsed": false,
    "pycharm": {
     "name": "#%%\n"
    }
   }
  },
  {
   "cell_type": "code",
   "execution_count": 5,
   "outputs": [],
   "source": [
    "storage_data('Andy', '01055553333')\n",
    "storage_data('Dave', '01044443333')\n",
    "storage_data('Trump', '01022223333')"
   ],
   "metadata": {
    "collapsed": false,
    "pycharm": {
     "name": "#%%\n"
    }
   }
  },
  {
   "cell_type": "code",
   "execution_count": 6,
   "outputs": [],
   "source": [
    "# 데이터 불러오기\n",
    "def get_data(data):\n",
    "    key = ord(data[0])\n",
    "    hash_address = hash_func(key)\n",
    "    return hash_table[hash_address]"
   ],
   "metadata": {
    "collapsed": false,
    "pycharm": {
     "name": "#%%\n"
    }
   }
  },
  {
   "cell_type": "code",
   "execution_count": 7,
   "outputs": [
    {
     "data": {
      "text/plain": "'01055553333'"
     },
     "execution_count": 7,
     "metadata": {},
     "output_type": "execute_result"
    }
   ],
   "source": [
    "get_data('Andy')"
   ],
   "metadata": {
    "collapsed": false,
    "pycharm": {
     "name": "#%%\n"
    }
   }
  },
  {
   "cell_type": "code",
   "execution_count": 8,
   "outputs": [],
   "source": [
    "# 리스트 변수를 활용해서 해쉬 테이블 구현해보기\n",
    "hash_table = list([0 for i in range(8)])\n",
    "\n",
    "def get_key(data): # 해쉬 함수\n",
    "    return hash(data)\n",
    "\n",
    "def hash_func(key): # 해쉬 키 생성\n",
    "    return key % 8\n",
    "\n",
    "def save_data(data, value):\n",
    "    hash_address = hash_func(get_key(data))\n",
    "    hash_table[hash_address] = value\n",
    "\n",
    "def read_data(data):\n",
    "    hash_address = hash_func(get_key(data))\n",
    "    return hash_table[hash_address]"
   ],
   "metadata": {
    "collapsed": false,
    "pycharm": {
     "name": "#%%\n"
    }
   }
  },
  {
   "cell_type": "code",
   "execution_count": 9,
   "outputs": [
    {
     "data": {
      "text/plain": "'01020302000'"
     },
     "execution_count": 9,
     "metadata": {},
     "output_type": "execute_result"
    }
   ],
   "source": [
    "save_data('Dave', '01020302000')\n",
    "save_data('Andy', '01033232000')\n",
    "read_data('Dave')"
   ],
   "metadata": {
    "collapsed": false,
    "pycharm": {
     "name": "#%%\n"
    }
   }
  },
  {
   "cell_type": "code",
   "execution_count": 10,
   "outputs": [],
   "source": [
    "# 충돌 해결 알고리즘 1\n",
    "# Chaining 기법 (충돌되는 곳의 데이터는 링크드 리스트로 추가)\n",
    "hash_table = list([0 for i in range(8)])\n",
    "\n",
    "def get_key(data): # 해쉬 함수\n",
    "    return hash(data)\n",
    "\n",
    "def hash_func(key): # 해쉬 키 생성\n",
    "    return key % 8\n",
    "\n",
    "def save_data(data, value):\n",
    "    index_key = get_key(data) # 같은 곳에 저장된 데이터들을 구분\n",
    "    hash_address = hash_func(index_key)\n",
    "    if hash_table[hash_address] != 0: # 해당 key 위치에 데이터가 존재 한다면 (충돌)\n",
    "        for index in range(len(hash_table[hash_address])):\n",
    "            if hash_table[hash_address][index][0] == index_key: # 해당 위치의 key값이 같다면\n",
    "                hash_table[hash_address][index][1] = value # 데이터만 덮어쓰기\n",
    "                return\n",
    "        hash_table[hash_address].append(index_key, value) # 같은 위치에 키값이 같은게 없으니 데이터 추가 (링크드 리스트)\n",
    "    else:\n",
    "        hash_table[hash_address] = [[index_key, value]] # 해당 위치에 데이터가 존재하지 않으니 (충돌X) 그냥 데이터 추가\n",
    "\n",
    "def read_data(data):\n",
    "    index_key = get_key(data)\n",
    "    hash_address = hash_func(index_key)\n",
    "    if hash_table[hash_address] != 0:\n",
    "        for index in range(len(hash_table[hash_address])):\n",
    "            if hash_table[hash_address][index][0] == index.key:\n",
    "                return hash_table[hash_address][index][1]\n",
    "        return None\n",
    "    else:\n",
    "        return None"
   ],
   "metadata": {
    "collapsed": false,
    "pycharm": {
     "name": "#%%\n"
    }
   }
  },
  {
   "cell_type": "code",
   "execution_count": 11,
   "outputs": [],
   "source": [
    "# 충돌 해결 알고리즘 2\n",
    "# Linear Probing 기법 (충돌이 일어나면 그 다음칸의 주소로 이동하며 빈곳에 데이터 추가)\n",
    "hash_table = list([0 for i in range(8)])\n",
    "\n",
    "def get_key(data): # 해쉬 함수\n",
    "    return hash(data)\n",
    "\n",
    "def hash_func(key): # 해쉬 키 생성\n",
    "    return key % 8\n",
    "\n",
    "def save_data(data, value):\n",
    "    index_key = get_key(data) # 같은 곳에 저장된 데이터들을 구분\n",
    "    hash_address = hash_func(index_key)\n",
    "    if hash_table[hash_address] != 0: # 해당 key 위치에 데이터가 존재 한다면 (충돌)\n",
    "        for index in range(hash_address, len(hash_table)): # 해당 데이터의 위치부터 순회\n",
    "            if hash_table[index] == 0: # 해당 위치가 비었다면\n",
    "                hash_table[index] = [index_key, value] # 데이터 추가\n",
    "                return\n",
    "            elif hash_table[index][0] == index_key: # 해당 위치의 데이터 key값이 동일한다면\n",
    "                hash_table[index][1] = value # 데이터 덮어쓰기\n",
    "                return\n",
    "    else:\n",
    "        hash_table[hash_address] = [index_key, value]\n",
    "\n",
    "def read_data(data):\n",
    "    index_key = get_key(data)\n",
    "    hash_address = hash_func(index_key)\n",
    "    if hash_table[hash_address] != 0:\n",
    "        for index in range(hash_address, len(hash_table)):\n",
    "            if hash_table[index] == 0: # 해당 데이터가 저장된 적이 없을 경우\n",
    "                return None\n",
    "            elif hash_table[index][0] == index_key: # 키값 매칭 확인\n",
    "                return hash_table[index][1]\n",
    "    else:\n",
    "        return None"
   ],
   "metadata": {
    "collapsed": false,
    "pycharm": {
     "name": "#%%\n"
    }
   }
  },
  {
   "cell_type": "code",
   "execution_count": 12,
   "outputs": [
    {
     "name": "stdout",
     "output_type": "stream",
     "text": [
      "a94a8fe5ccb19ba61c4c0873d391e987982fbbd3\n"
     ]
    }
   ],
   "source": [
    "# 해쉬 함수들 (SHA-1)\n",
    "import hashlib\n",
    "\n",
    "data = 'test'.encode()\n",
    "hash_object = hashlib.sha1()\n",
    "hash_object.update(data) # 바이트 코드로 변환\n",
    "hex_dig = hash_object.hexdigest() # 16진수\n",
    "print(hex_dig)"
   ],
   "metadata": {
    "collapsed": false,
    "pycharm": {
     "name": "#%%\n"
    }
   }
  },
  {
   "cell_type": "code",
   "execution_count": 13,
   "outputs": [
    {
     "name": "stdout",
     "output_type": "stream",
     "text": [
      "9f86d081884c7d659a2feaa0c55ad015a3bf4f1b2b0b822cd15d6c15b0f00a08\n"
     ]
    }
   ],
   "source": [
    "# 해쉬 함수들 (SHA-256)\n",
    "import hashlib\n",
    "\n",
    "data = 'test'.encode()\n",
    "hash_object = hashlib.sha256()\n",
    "hash_object.update(data) # 바이트 코드로 변환\n",
    "hex_dig = hash_object.hexdigest() # 16진수\n",
    "print(hex_dig)"
   ],
   "metadata": {
    "collapsed": false,
    "pycharm": {
     "name": "#%%\n"
    }
   }
  },
  {
   "cell_type": "code",
   "execution_count": 14,
   "outputs": [],
   "source": [
    "import hashlib\n",
    "\n",
    "hash_table = list([0 for i in range(8)])\n",
    "\n",
    "def get_key(data): # 해쉬 함수 (SHA-256)\n",
    "    hash_object = hashlib.sha256()\n",
    "    hash_object.update(data.encode())\n",
    "    hex_dig = hash_object.hexdigest()\n",
    "    return int(hex_dig, 16)\n",
    "\n",
    "def hash_func(key): # 해쉬 키 생성\n",
    "    return key % 8\n",
    "\n",
    "def save_data(data, value):\n",
    "    index_key = get_key(data) # 같은 곳에 저장된 데이터들을 구분\n",
    "    hash_address = hash_func(index_key)\n",
    "    if hash_table[hash_address] != 0: # 해당 key 위치에 데이터가 존재 한다면 (충돌)\n",
    "        for index in range(hash_address, len(hash_table)): # 해당 데이터의 위치부터 순회\n",
    "            if hash_table[index] == 0: # 해당 위치가 비었다면\n",
    "                hash_table[index] = [index_key, value] # 데이터 추가\n",
    "                return\n",
    "            elif hash_table[index][0] == index_key: # 해당 위치의 데이터 key값이 동일한다면\n",
    "                hash_table[index][1] = value # 데이터 덮어쓰기\n",
    "                return\n",
    "    else:\n",
    "        hash_table[hash_address] = [index_key, value]\n",
    "\n",
    "def read_data(data):\n",
    "    index_key = get_key(data)\n",
    "    hash_address = hash_func(index_key)\n",
    "    if hash_table[hash_address] != 0:\n",
    "        for index in range(hash_address, len(hash_table)):\n",
    "            if hash_table[index] == 0: # 해당 데이터가 저장된 적이 없을 경우\n",
    "                return None\n",
    "            elif hash_table[index][0] == index_key: # 키값 매칭 확인\n",
    "                return hash_table[index][1]\n",
    "    else:\n",
    "        return None"
   ],
   "metadata": {
    "collapsed": false,
    "pycharm": {
     "name": "#%%\n"
    }
   }
  },
  {
   "cell_type": "code",
   "execution_count": 15,
   "outputs": [
    {
     "name": "stdout",
     "output_type": "stream",
     "text": [
      "1\n",
      "2\n",
      "2\n"
     ]
    }
   ],
   "source": [
    "print(get_key('db') % 8)\n",
    "print(get_key('da') % 8)\n",
    "print(get_key('dh') % 8)\n"
   ],
   "metadata": {
    "collapsed": false,
    "pycharm": {
     "name": "#%%\n"
    }
   }
  },
  {
   "cell_type": "code",
   "execution_count": 16,
   "outputs": [
    {
     "data": {
      "text/plain": "'01033334444'"
     },
     "execution_count": 16,
     "metadata": {},
     "output_type": "execute_result"
    }
   ],
   "source": [
    "save_data('da', '01011112222')\n",
    "save_data('dh', '01033334444')\n",
    "read_data('dh')"
   ],
   "metadata": {
    "collapsed": false,
    "pycharm": {
     "name": "#%%\n"
    }
   }
  },
  {
   "cell_type": "markdown",
   "source": [
    "### 시간 복잡도\n",
    "- 일반적인 경우(Collision이 없는 경우)는 O(1)\n",
    "- 최악의 경우(Collision이 모두 발생하는 경우)는 O(n)\n",
    "\n",
    "> 해쉬 테이블의 경우, 일반적인 경우를 기대하고 만들기 때문에, 시간 복잡도는 O(1) 이라고 말할 수 있음\n",
    "\n",
    "### 검색에서 해쉬 테이블의 사용 예\n",
    "- 16개의 배열에 데이터를 저장하고, 검색할 때 O(n)\n",
    "- 16개의 데이터 저장공간을 가진 위의 해쉬 테이블에 데이터를 저장하고, 검색할 때 O(1)\n"
   ],
   "metadata": {
    "collapsed": false,
    "pycharm": {
     "name": "#%% md\n"
    }
   }
  }
 ],
 "metadata": {
  "kernelspec": {
   "display_name": "Python 3",
   "language": "python",
   "name": "python3"
  },
  "language_info": {
   "codemirror_mode": {
    "name": "ipython",
    "version": 2
   },
   "file_extension": ".py",
   "mimetype": "text/x-python",
   "name": "python",
   "nbconvert_exporter": "python",
   "pygments_lexer": "ipython2",
   "version": "2.7.6"
  }
 },
 "nbformat": 4,
 "nbformat_minor": 0
}