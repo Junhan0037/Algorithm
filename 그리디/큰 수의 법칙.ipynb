{
 "cells": [
  {
   "cell_type": "markdown",
   "metadata": {
    "collapsed": true,
    "pycharm": {
     "name": "#%% md\n"
    }
   },
   "source": [
    "* N : 배열의 길이\n",
    "* M : 더하는 갯수\n",
    "* K : 연속해서 더할 수 있는 횟수"
   ]
  },
  {
   "cell_type": "code",
   "execution_count": 2,
   "outputs": [
    {
     "name": "stdout",
     "output_type": "stream",
     "text": [
      "46\n"
     ]
    }
   ],
   "source": [
    "n, m, k = map(int, input().split())\n",
    "data = list(map(int, input().split()))\n",
    "\n",
    "data.sort() # 배열 정렬\n",
    "first = data[-1] # 가장 큰 수\n",
    "second = data[-2] # 두 번째로 큰 수\n",
    "\n",
    "result = 0\n",
    "while True:\n",
    "    for _ in range(k): # 가장 큰 수를 k번 더하기\n",
    "        if m == 0:\n",
    "            break\n",
    "        result += first\n",
    "        m -= 1 # 더할 때 마다 1씩 빼기\n",
    "    if m == 0:\n",
    "        break\n",
    "    result += second # 두번 째로 큰 수를 한 번 더하기\n",
    "    m -= 1 # 더할 때 마다 1씩 빼기\n",
    "\n",
    "print(result)"
   ],
   "metadata": {
    "collapsed": false,
    "pycharm": {
     "name": "#%%\n"
    }
   }
  },
  {
   "cell_type": "code",
   "execution_count": null,
   "outputs": [],
   "source": [],
   "metadata": {
    "collapsed": false,
    "pycharm": {
     "name": "#%%\n"
    }
   }
  }
 ],
 "metadata": {
  "kernelspec": {
   "display_name": "Python 3",
   "language": "python",
   "name": "python3"
  },
  "language_info": {
   "codemirror_mode": {
    "name": "ipython",
    "version": 2
   },
   "file_extension": ".py",
   "mimetype": "text/x-python",
   "name": "python",
   "nbconvert_exporter": "python",
   "pygments_lexer": "ipython2",
   "version": "2.7.6"
  }
 },
 "nbformat": 4,
 "nbformat_minor": 0
}