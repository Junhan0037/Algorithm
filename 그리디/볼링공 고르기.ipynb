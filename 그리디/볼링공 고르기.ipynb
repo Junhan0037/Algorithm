{
 "cells": [
  {
   "cell_type": "markdown",
   "metadata": {
    "collapsed": true,
    "pycharm": {
     "name": "#%% md\n"
    }
   },
   "source": []
  },
  {
   "cell_type": "code",
   "execution_count": 6,
   "outputs": [
    {
     "name": "stdout",
     "output_type": "stream",
     "text": [
      "1  ,  5\n",
      "1  ,  4\n",
      "1  ,  3\n",
      "1  ,  2\n",
      "1  ,  4\n",
      "1  ,  5\n",
      "1  ,  2\n",
      "\n",
      "5  ,  4\n",
      "5  ,  3\n",
      "5  ,  2\n",
      "5  ,  4\n",
      "5  ,  2\n",
      "\n",
      "4  ,  3\n",
      "4  ,  2\n",
      "4  ,  5\n",
      "4  ,  2\n",
      "\n",
      "3  ,  2\n",
      "3  ,  4\n",
      "3  ,  5\n",
      "3  ,  2\n",
      "\n",
      "2  ,  4\n",
      "2  ,  5\n",
      "\n",
      "4  ,  5\n",
      "4  ,  2\n",
      "\n",
      "5  ,  2\n",
      "\n",
      "\n",
      "25\n"
     ]
    }
   ],
   "source": [
    "n, m = map(int ,input().split())\n",
    "data = list(map(int, input().split()))\n",
    "\n",
    "result = 0\n",
    "for i in range(len(data)):\n",
    "    for j in range(i + 1, len(data)):\n",
    "        if data[i] != data[j]:\n",
    "            result += 1\n",
    "\n",
    "print(result)"
   ],
   "metadata": {
    "collapsed": false,
    "pycharm": {
     "name": "#%%\n"
    }
   }
  },
  {
   "cell_type": "code",
   "execution_count": 7,
   "outputs": [
    {
     "name": "stdout",
     "output_type": "stream",
     "text": [
      "8\n"
     ]
    }
   ],
   "source": [
    "n, m = map(int ,input().split())\n",
    "data = list(map(int, input().split()))\n",
    "\n",
    "array = [0] * 11\n",
    "for x in data:\n",
    "    array[x] += 1 # 각 무게에 해당하는 볼링공의 개수 카운트\n",
    "\n",
    "result = 0\n",
    "for i in range(1, m + 1):\n",
    "    n -= array[i]\n",
    "    result += array[i] * n\n",
    "\n",
    "print(result)"
   ],
   "metadata": {
    "collapsed": false,
    "pycharm": {
     "name": "#%%\n"
    }
   }
  },
  {
   "cell_type": "code",
   "execution_count": null,
   "outputs": [],
   "source": [
    "\n"
   ],
   "metadata": {
    "collapsed": false,
    "pycharm": {
     "name": "#%%\n"
    }
   }
  }
 ],
 "metadata": {
  "kernelspec": {
   "display_name": "Python 3",
   "language": "python",
   "name": "python3"
  },
  "language_info": {
   "codemirror_mode": {
    "name": "ipython",
    "version": 2
   },
   "file_extension": ".py",
   "mimetype": "text/x-python",
   "name": "python",
   "nbconvert_exporter": "python",
   "pygments_lexer": "ipython2",
   "version": "2.7.6"
  }
 },
 "nbformat": 4,
 "nbformat_minor": 0
}