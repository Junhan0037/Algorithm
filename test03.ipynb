{
 "cells": [
  {
   "cell_type": "code",
   "execution_count": 1,
   "metadata": {
    "collapsed": true
   },
   "outputs": [],
   "source": [
    "people = 14000605\n",
    "#대기인원 = 1200202\n",
    "\n",
    "# 100명씩 12시간 -> 1200명"
   ]
  },
  {
   "cell_type": "code",
   "execution_count": 2,
   "outputs": [
    {
     "data": {
      "text/plain": "11667"
     },
     "execution_count": 2,
     "metadata": {},
     "output_type": "execute_result"
    }
   ],
   "source": [
    "# 정수로 나눠 일자를 구한다\n",
    "delay_day = people // 1200\n",
    "delay_day"
   ],
   "metadata": {
    "collapsed": false,
    "pycharm": {
     "name": "#%%\n"
    }
   }
  },
  {
   "cell_type": "code",
   "execution_count": 3,
   "outputs": [
    {
     "name": "stdout",
     "output_type": "stream",
     "text": [
      "1024\n",
      "512\n",
      "256\n",
      "128\n",
      "64\n",
      "32\n",
      "16\n",
      "8\n",
      "4\n",
      "2\n"
     ]
    },
    {
     "data": {
      "text/plain": "2046"
     },
     "execution_count": 3,
     "metadata": {},
     "output_type": "execute_result"
    }
   ],
   "source": [
    "# 1년이 며칠인지\n",
    "day = 0\n",
    "for i in range(10, 0, -1):\n",
    "    print(2**i)\n",
    "    day += 2**i\n",
    "\n",
    "day"
   ],
   "metadata": {
    "collapsed": false,
    "pycharm": {
     "name": "#%%\n"
    }
   }
  },
  {
   "cell_type": "code",
   "execution_count": 4,
   "outputs": [
    {
     "data": {
      "text/plain": "1437"
     },
     "execution_count": 4,
     "metadata": {},
     "output_type": "execute_result"
    }
   ],
   "source": [
    "# 대기년 = 대기일 // 일년일수\n",
    "delay_year = delay_day // day\n",
    "delay_year\n",
    "\n",
    "# 남은 일수 = 대기일 % 일년일수\n",
    "remain_day = delay_day % day\n",
    "remain_day"
   ],
   "metadata": {
    "collapsed": false,
    "pycharm": {
     "name": "#%%\n"
    }
   }
  },
  {
   "cell_type": "code",
   "execution_count": 5,
   "outputs": [
    {
     "data": {
      "text/plain": "413"
     },
     "execution_count": 5,
     "metadata": {},
     "output_type": "execute_result"
    }
   ],
   "source": [
    "month_day = 0\n",
    "month = 0\n",
    "for i in range(10, 0, -1):\n",
    "    차감일 = month_day\n",
    "    month_day += 2**i\n",
    "    month += 1\n",
    "    if month_day > remain_day:\n",
    "        break\n",
    "\n",
    "month # 2월 중 배를 탄다\n",
    "remain_day - 차감일 # 2월 413일에 배를 탄다"
   ],
   "metadata": {
    "collapsed": false,
    "pycharm": {
     "name": "#%%\n"
    }
   }
  },
  {
   "cell_type": "code",
   "execution_count": 5,
   "outputs": [],
   "source": [
    "import datetime\n",
    "\n",
    "오늘시간 = datetime.datetime.today()\n",
    "대기인원 = 14000605\n",
    "\n",
    "def solution(대기인원):\n",
    "    일년일수 = 0\n",
    "    for i in range(10, 0, -1):\n",
    "        일년일수 += 2**i\n",
    "    년 = (대기인원 // 1200) // 일년일수 # 5년\n",
    "\n",
    "    남은일수 = (대기인원 // 1200) % 일년일수\n",
    "    월별일수누적값 = 0\n",
    "    월 = 0\n",
    "    for i in range(10, 0, -1):\n",
    "        차감일 = 월별일수누적값\n",
    "        월별일수누적값 += 2**i\n",
    "        월 += 1 # 2월\n",
    "        if 월별일수누적값 > 남은일수:\n",
    "            break\n",
    "\n",
    "    일 = 남은일수 - 차감일 # 413일\n",
    "\n",
    "    최종남은인원 = 대기인원 % 1200\n",
    "    시 = 최종남은인원 // 100 + 9 # 11시\n",
    "\n",
    "    출발분 = [25, 40, 55, 70, 85, 100]\n",
    "    \n",
    "\n",
    "\n",
    "    print f'{년}년 {월}월 {일}일 {시}시 {분}분 출발'\n",
    "\n",
    "solution(대기인원)\n"
   ],
   "metadata": {
    "collapsed": false,
    "pycharm": {
     "name": "#%%\n"
    }
   }
  }
 ],
 "metadata": {
  "kernelspec": {
   "display_name": "Python 3",
   "language": "python",
   "name": "python3"
  },
  "language_info": {
   "codemirror_mode": {
    "name": "ipython",
    "version": 2
   },
   "file_extension": ".py",
   "mimetype": "text/x-python",
   "name": "python",
   "nbconvert_exporter": "python",
   "pygments_lexer": "ipython2",
   "version": "2.7.6"
  }
 },
 "nbformat": 4,
 "nbformat_minor": 0
}