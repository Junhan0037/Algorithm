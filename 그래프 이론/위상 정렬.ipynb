{
 "cells": [
  {
   "cell_type": "code",
   "execution_count": 1,
   "metadata": {
    "collapsed": true
   },
   "outputs": [
    {
     "name": "stdout",
     "output_type": "stream",
     "text": [
      "1 2 5 3 6 4 7 "
     ]
    }
   ],
   "source": [
    "from collections import deque\n",
    "\n",
    "v, e = map(int, input().split()) # 노드, 간선의 개수\n",
    "indegree = [0] * (v + 1) # 진입 차수\n",
    "graph = [[] for i in range(v + 1)]\n",
    "\n",
    "for _ in range(e):\n",
    "    a, b = map(int, input().split())\n",
    "    graph[a].append(b)\n",
    "    indegree[b] += 1\n",
    "\n",
    "def topology_sort():\n",
    "    result = []\n",
    "    q = deque()\n",
    "\n",
    "    for i in range(1, v + 1):\n",
    "        if indegree[i] == 0:\n",
    "            q.append(i)\n",
    "\n",
    "    while q:\n",
    "        now = q.popleft()\n",
    "        result.append(now)\n",
    "        for i in graph[now]:\n",
    "            indegree[i] -= 1\n",
    "            if indegree[i] == 0:\n",
    "                q.append(i)\n",
    "\n",
    "    for i in result:\n",
    "        print(i, end=' ')\n",
    "\n",
    "topology_sort()"
   ]
  },
  {
   "cell_type": "code",
   "execution_count": null,
   "outputs": [],
   "source": [
    "\n"
   ],
   "metadata": {
    "collapsed": false,
    "pycharm": {
     "name": "#%%\n"
    }
   }
  }
 ],
 "metadata": {
  "kernelspec": {
   "display_name": "Python 3",
   "language": "python",
   "name": "python3"
  },
  "language_info": {
   "codemirror_mode": {
    "name": "ipython",
    "version": 2
   },
   "file_extension": ".py",
   "mimetype": "text/x-python",
   "name": "python",
   "nbconvert_exporter": "python",
   "pygments_lexer": "ipython2",
   "version": "2.7.6"
  }
 },
 "nbformat": 4,
 "nbformat_minor": 0
}