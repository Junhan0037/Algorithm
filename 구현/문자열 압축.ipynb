{
 "cells": [
  {
   "cell_type": "markdown",
   "metadata": {
    "collapsed": true,
    "pycharm": {
     "name": "#%% md\n"
    }
   },
   "source": [
    "aabbaccc\n",
    "ababcdcdababcdcd\n",
    "abcabcdede\n",
    "abcabcabcabcdededededede\n",
    "xababcdcdababcdcd"
   ]
  },
  {
   "cell_type": "code",
   "execution_count": 8,
   "outputs": [
    {
     "name": "stdout",
     "output_type": "stream",
     "text": [
      "17\n"
     ]
    }
   ],
   "source": [
    "s = input()\n",
    "result = len(s)\n",
    "\n",
    "for step in range(1, len(s) // 2 + 1): # 문자를 자를 스텝\n",
    "    compressed = \"\" # 압축 결과\n",
    "    prev = s[0:step]\n",
    "    count = 1\n",
    "    for j in range(step, len(s), step):\n",
    "        if prev == s[j:j + step]:\n",
    "            count += 1\n",
    "        else:\n",
    "            if count >= 2:\n",
    "                compressed += str(count) + prev\n",
    "            else:\n",
    "                compressed += prev\n",
    "            prev = s[j:j + step] # 초기화\n",
    "            count = 1 # 초기화\n",
    "    if count >= 2:\n",
    "        compressed += str(count) + prev\n",
    "    else:\n",
    "        compressed += prev\n",
    "    result = min(result, len(compressed))\n",
    "print(result)"
   ],
   "metadata": {
    "collapsed": false,
    "pycharm": {
     "name": "#%%\n"
    }
   }
  },
  {
   "cell_type": "code",
   "execution_count": null,
   "outputs": [],
   "source": [
    "\n"
   ],
   "metadata": {
    "collapsed": false,
    "pycharm": {
     "name": "#%%\n"
    }
   }
  }
 ],
 "metadata": {
  "kernelspec": {
   "display_name": "Python 3",
   "language": "python",
   "name": "python3"
  },
  "language_info": {
   "codemirror_mode": {
    "name": "ipython",
    "version": 2
   },
   "file_extension": ".py",
   "mimetype": "text/x-python",
   "name": "python",
   "nbconvert_exporter": "python",
   "pygments_lexer": "ipython2",
   "version": "2.7.6"
  }
 },
 "nbformat": 4,
 "nbformat_minor": 0
}