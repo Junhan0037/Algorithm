{
 "cells": [
  {
   "cell_type": "markdown",
   "metadata": {
    "collapsed": true,
    "pycharm": {
     "name": "#%% md\n"
    }
   },
   "source": []
  },
  {
   "cell_type": "code",
   "execution_count": null,
   "outputs": [],
   "source": [
    "import heapq\n",
    "import sys\n",
    "input = sys.stdin.readline()\n",
    "INF = int(1e9) # 무한을 의미하는 값으로 10억을 설정\n",
    "\n",
    "dx = [-1, 0, 1, 0]\n",
    "dy = [0, 1, 0, -1]\n",
    "\n",
    "# 전체 테스트 케이스만큼 반복\n",
    "for tc in range(int(input())):\n",
    "    # 노드의 개수 입력받기\n",
    "    n = int(input())\n",
    "    # 전체 맵 정보를 입력받기\n",
    "    graph = []\n",
    "    for i in range(n):\n",
    "        graph.append(list(map(int, input().split())))\n",
    "\n",
    "    # 최단 거리 테이블을 모두 무한으로 초기화\n",
    "    distance = [[INF] * n for _ in range(n)]\n",
    "\n",
    "    x, y = 0, 0 # 시작 위치는 (0, 0)\n",
    "    # 시작 노드로 가기 위한 비용은 (0, 0) 위치의 값으로 설정하며, 큐에 삽입\n",
    "    q = [(graph[x][y], x, y)]\n",
    "    distance[x][y] = graph[x][y]\n",
    "\n",
    "    # 다익스트라 알고리즘 수행\n",
    "    while q:\n",
    "        # 가장 최단 거리가 짧으 노드에 대한 정보를 꺼내기\n",
    "        dist, x, y = heapq.heappop(q)\n",
    "        # 현재 노드가 이미 처리된 적이 있는 노드라면 무시\n",
    "        if distance[x][y] < dist:\n",
    "            continue\n",
    "        # 현재 노드의 연결된 다른 인접한 노드들을 확인\n",
    "        for i in range(4):\n",
    "            nx = x + dx[i]\n",
    "            ny = y + dy[i]\n",
    "            # 맵의 범위를 벗어나는 경우 무시\n",
    "            if n <= nx < 0 or n <= ny < 0:\n",
    "                continue\n",
    "            cost = dist + graph[nx][ny]\n",
    "            # 현재 노드를 거쳐서, 다른 노드로 이동하는 거리가 더 짧은 경우\n",
    "            if cost < distance[nx][ny]:\n",
    "                distance[nx][ny] = cost\n",
    "                heapq.heappush(q, (cost, nx, ny))\n",
    "\n",
    "print(distance[n - 1][n - 1])\n"
   ],
   "metadata": {
    "collapsed": false,
    "pycharm": {
     "name": "#%%\n"
    }
   }
  }
 ],
 "metadata": {
  "kernelspec": {
   "display_name": "Python 3",
   "language": "python",
   "name": "python3"
  },
  "language_info": {
   "codemirror_mode": {
    "name": "ipython",
    "version": 2
   },
   "file_extension": ".py",
   "mimetype": "text/x-python",
   "name": "python",
   "nbconvert_exporter": "python",
   "pygments_lexer": "ipython2",
   "version": "2.7.6"
  }
 },
 "nbformat": 4,
 "nbformat_minor": 0
}