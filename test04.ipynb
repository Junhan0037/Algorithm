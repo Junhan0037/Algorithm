{
 "cells": [
  {
   "cell_type": "code",
   "execution_count": 1,
   "metadata": {
    "collapsed": true
   },
   "outputs": [
    {
     "name": "stdout",
     "output_type": "stream",
     "text": [
      "['척추동물']\n",
      "['척추동물', '어류']\n",
      "['어류', '척추동물']\n",
      "['어류', '척추동물', '무척추동물']\n",
      "['척추동물', '무척추동물', '파충류']\n",
      "['무척추동물', '파충류', '척추동물']\n",
      "['파충류', '척추동물', '어류']\n",
      "['척추동물', '어류', '파충류']\n"
     ]
    },
    {
     "data": {
      "text/plain": "'5분 3초'"
     },
     "execution_count": 1,
     "metadata": {},
     "output_type": "execute_result"
    }
   ],
   "source": [
    "동물 = ['척추동물', '어류', '척추동물', '무척추동물', '파충류', '척추동물', '어류', '파충류']\n",
    "\n",
    "def solution(동물, 자리):\n",
    "    의자 = [] * 자리\n",
    "    answer = 0\n",
    "\n",
    "    for i in 동물:\n",
    "        if len(의자) < 3:\n",
    "            if i in 의자:\n",
    "                히트된페이지 = 의자.pop(의자.index(i))\n",
    "                의자.append(히트된페이지)\n",
    "                answer += 1\n",
    "            else:\n",
    "                의자.append(i)\n",
    "                answer += 60\n",
    "        else:\n",
    "            if i in 의자:\n",
    "                히트된페이지 = 의자.pop(의자.index(i))\n",
    "                의자.append(히트된페이지)\n",
    "                answer += 1\n",
    "            else:\n",
    "                의자.pop(0)\n",
    "                의자.append(i)\n",
    "                answer += 60\n",
    "        print(의자)\n",
    "    return f'{answer//60}분 {answer%60}초'\n",
    "\n",
    "solution(동물, 3)"
   ]
  },
  {
   "cell_type": "code",
   "execution_count": 1,
   "outputs": [],
   "source": [
    "\n"
   ],
   "metadata": {
    "collapsed": false,
    "pycharm": {
     "name": "#%%\n"
    }
   }
  }
 ],
 "metadata": {
  "kernelspec": {
   "display_name": "Python 3",
   "language": "python",
   "name": "python3"
  },
  "language_info": {
   "codemirror_mode": {
    "name": "ipython",
    "version": 2
   },
   "file_extension": ".py",
   "mimetype": "text/x-python",
   "name": "python",
   "nbconvert_exporter": "python",
   "pygments_lexer": "ipython2",
   "version": "2.7.6"
  }
 },
 "nbformat": 4,
 "nbformat_minor": 0
}