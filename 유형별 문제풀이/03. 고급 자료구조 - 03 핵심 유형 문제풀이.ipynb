{
 "cells": [
  {
   "cell_type": "markdown",
   "metadata": {
    "collapsed": true,
    "pycharm": {
     "name": "#%% md\n"
    }
   },
   "source": [
    "https://www.acmicpc.net/problem/10930"
   ]
  },
  {
   "cell_type": "code",
   "execution_count": 1,
   "outputs": [
    {
     "name": "stdout",
     "output_type": "stream",
     "text": [
      "9944e1862efbb2a4e2486392dc6701896416b251eccdecb8332deb7f4cf2a857\n"
     ]
    }
   ],
   "source": [
    "import hashlib\n",
    "\n",
    "input_data = input()\n",
    "encoded_data = input_data.encode()\n",
    "result = hashlib.sha256(encoded_data).hexdigest()\n",
    "print(result)"
   ],
   "metadata": {
    "collapsed": false,
    "pycharm": {
     "name": "#%%\n"
    }
   }
  },
  {
   "cell_type": "markdown",
   "source": [
    "https://www.acmicpc.net/problem/1920"
   ],
   "metadata": {
    "collapsed": false,
    "pycharm": {
     "name": "#%% md\n"
    }
   }
  },
  {
   "cell_type": "code",
   "execution_count": 2,
   "outputs": [
    {
     "name": "stdout",
     "output_type": "stream",
     "text": [
      "1\n",
      "1\n",
      "0\n",
      "0\n",
      "1\n"
     ]
    }
   ],
   "source": [
    "n = int(input())\n",
    "array1 = set(map(int, input().split()))\n",
    "m = int(input())\n",
    "array2 = list(map(int, input().split()))\n",
    "\n",
    "for i in array2:\n",
    "    if i not in array1:\n",
    "        print('0')\n",
    "    else:\n",
    "        print('1')"
   ],
   "metadata": {
    "collapsed": false,
    "pycharm": {
     "name": "#%%\n"
    }
   }
  },
  {
   "cell_type": "markdown",
   "source": [
    "https://www.acmicpc.net/problem/4195"
   ],
   "metadata": {
    "collapsed": false,
    "pycharm": {
     "name": "#%% md\n"
    }
   }
  },
  {
   "cell_type": "code",
   "execution_count": 3,
   "outputs": [
    {
     "name": "stdout",
     "output_type": "stream",
     "text": [
      "2\n",
      "3\n",
      "4\n",
      "2\n",
      "2\n",
      "4\n"
     ]
    }
   ],
   "source": [
    "def find(x):\n",
    "    if x == parent[x]:\n",
    "        return x\n",
    "    else:\n",
    "        p = find(parent[x])\n",
    "        parent[x] = p\n",
    "        return parent[x]\n",
    "\n",
    "def union(x, y):\n",
    "    x = find(x)\n",
    "    y = find(y)\n",
    "\n",
    "    if x != y:\n",
    "        parent[y] = x\n",
    "        number[x] += number[y]\n",
    "\n",
    "test_cast = int(input())\n",
    "\n",
    "for _ in range(test_cast):\n",
    "    parent = dict()\n",
    "    number = dict()\n",
    "    f = int(input())\n",
    "\n",
    "    for _ in range(f):\n",
    "        x, y = input().split(' ')\n",
    "\n",
    "        if x not in parent:\n",
    "            parent[x] = x\n",
    "            number[x] = 1\n",
    "        if y not in parent:\n",
    "            parent[y] = y\n",
    "            number[y] = 1\n",
    "\n",
    "        union(x, y)\n",
    "        print(number[find(x)])"
   ],
   "metadata": {
    "collapsed": false,
    "pycharm": {
     "name": "#%%\n"
    }
   }
  },
  {
   "cell_type": "code",
   "execution_count": null,
   "outputs": [],
   "source": [
    "\n"
   ],
   "metadata": {
    "collapsed": false,
    "pycharm": {
     "name": "#%%\n"
    }
   }
  }
 ],
 "metadata": {
  "kernelspec": {
   "display_name": "Python 3",
   "language": "python",
   "name": "python3"
  },
  "language_info": {
   "codemirror_mode": {
    "name": "ipython",
    "version": 2
   },
   "file_extension": ".py",
   "mimetype": "text/x-python",
   "name": "python",
   "nbconvert_exporter": "python",
   "pygments_lexer": "ipython2",
   "version": "2.7.6"
  }
 },
 "nbformat": 4,
 "nbformat_minor": 0
}