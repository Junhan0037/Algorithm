{
 "cells": [
  {
   "cell_type": "markdown",
   "metadata": {
    "collapsed": true,
    "pycharm": {
     "name": "#%% md\n"
    }
   },
   "source": [
    "https://www.acmicpc.net/problem/2920"
   ]
  },
  {
   "cell_type": "code",
   "execution_count": 8,
   "outputs": [
    {
     "name": "stdout",
     "output_type": "stream",
     "text": [
      "mixed\n"
     ]
    }
   ],
   "source": [
    "a = list(map(int, input().split(' ')))\n",
    "\n",
    "ascending = True\n",
    "descending = True\n",
    "\n",
    "for i in range(len(a)-1):\n",
    "    if a[i] > a[i+1]:\n",
    "        ascending = False\n",
    "    elif a[i] < a[i+1]:\n",
    "        descending = False\n",
    "\n",
    "if ascending:\n",
    "    print('ascending')\n",
    "elif descending:\n",
    "    print('descending')\n",
    "else:\n",
    "    print('mixed')"
   ],
   "metadata": {
    "collapsed": false,
    "pycharm": {
     "name": "#%%\n"
    }
   }
  },
  {
   "cell_type": "markdown",
   "source": [
    "https://www.acmicpc.net/problem/2798"
   ],
   "metadata": {
    "collapsed": false,
    "pycharm": {
     "name": "#%% md\n"
    }
   }
  },
  {
   "cell_type": "code",
   "execution_count": 12,
   "outputs": [
    {
     "name": "stdout",
     "output_type": "stream",
     "text": [
      "497\n"
     ]
    }
   ],
   "source": [
    "n ,m = list(map(int, input().split(' ')))\n",
    "data = list(map(int, input().split(' ')))\n",
    "\n",
    "result = 0\n",
    "length = len(data)\n",
    "\n",
    "for i in range(length):\n",
    "    for j in range(i+1, length):\n",
    "        for k in range(j+1, length):\n",
    "            sum_value = data[i] + data[j] + data[k]\n",
    "            if sum_value <= m:\n",
    "                result = max(sum_value, result)\n",
    "\n",
    "print(result)"
   ],
   "metadata": {
    "collapsed": false,
    "pycharm": {
     "name": "#%%\n"
    }
   }
  },
  {
   "cell_type": "code",
   "execution_count": null,
   "outputs": [],
   "source": [
    "\n"
   ],
   "metadata": {
    "collapsed": false,
    "pycharm": {
     "name": "#%%\n"
    }
   }
  }
 ],
 "metadata": {
  "kernelspec": {
   "display_name": "Python 3",
   "language": "python",
   "name": "python3"
  },
  "language_info": {
   "codemirror_mode": {
    "name": "ipython",
    "version": 2
   },
   "file_extension": ".py",
   "mimetype": "text/x-python",
   "name": "python",
   "nbconvert_exporter": "python",
   "pygments_lexer": "ipython2",
   "version": "2.7.6"
  }
 },
 "nbformat": 4,
 "nbformat_minor": 0
}