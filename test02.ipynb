{
 "cells": [
  {
   "cell_type": "code",
   "execution_count": 1,
   "metadata": {
    "collapsed": true
   },
   "outputs": [],
   "source": [
    "limit = [1, 2, 1, 4]\n",
    "dog = [{\n",
    "    \"name\" : \"Ruby\",\n",
    "    \"age\" : \"95\",\n",
    "    \"jump\" : \"3\",\n",
    "    \"weight\" : \"4\",\n",
    "    },{\n",
    "    \"name\" : \"Php\",\n",
    "    \"age\" : \"95\",\n",
    "    \"jump\" : \"3\",\n",
    "    \"weight\" : \"3\",\n",
    "    },{\n",
    "    \"name\" : \"C\",\n",
    "    \"age\" : \"72\",\n",
    "    \"jump\" : \"2\",\n",
    "    \"weight\" : \"1\",\n",
    "    },{\n",
    "    \"name\" : \"Cobol\",\n",
    "    \"age\" : \"59\",\n",
    "    \"jump\" : \"1\",\n",
    "    \"weight\" : \"1\",\n",
    "    },\n",
    "]"
   ]
  },
  {
   "cell_type": "code",
   "execution_count": 2,
   "outputs": [
    {
     "name": "stdout",
     "output_type": "stream",
     "text": [
      "['Ruby', 'Php', 'C', 'Cobol']\n"
     ]
    }
   ],
   "source": [
    "def action(limit, dog):\n",
    "    answer = [dog[i]['name'] for i in range(len(dog))]\n",
    "    return answer\n",
    "\n",
    "print(action(limit, dog))"
   ],
   "metadata": {
    "collapsed": false,
    "pycharm": {
     "name": "#%%\n"
    }
   }
  },
  {
   "cell_type": "code",
   "execution_count": 3,
   "outputs": [
    {
     "name": "stdout",
     "output_type": "stream",
     "text": [
      "['Ruby', 'Php', 'C', 'Cobol']\n"
     ]
    }
   ],
   "source": [
    "def action(limit, dog):\n",
    "    answer = [i['name'] for i in dog]\n",
    "    return answer\n",
    "\n",
    "print(action(limit, dog))"
   ],
   "metadata": {
    "collapsed": false,
    "pycharm": {
     "name": "#%%\n"
    }
   }
  },
  {
   "cell_type": "code",
   "execution_count": 4,
   "outputs": [
    {
     "name": "stdout",
     "output_type": "stream",
     "text": [
      "['C']\n"
     ]
    }
   ],
   "source": [
    "def action(limit, dog):\n",
    "    answer = [i['name'] for i in dog]\n",
    "    for i in dog:\n",
    "        dog_position = 0\n",
    "        while dog_position < len(limit)-1:\n",
    "            dog_position += int(i['jump'])\n",
    "            limit[dog_position-1] -= int(i['weight'])\n",
    "            if limit[dog_position-1] < 0:\n",
    "                answer[answer.index(i['name'])] = 'fail'\n",
    "                break\n",
    "    return [i for i in answer if i != 'fail']\n",
    "\n",
    "print(action(limit.copy(), dog.copy()))"
   ],
   "metadata": {
    "collapsed": false,
    "pycharm": {
     "name": "#%%\n"
    }
   }
  },
  {
   "cell_type": "code",
   "execution_count": 5,
   "outputs": [
    {
     "name": "stdout",
     "output_type": "stream",
     "text": [
      "['C']\n"
     ]
    }
   ],
   "source": [
    "# remove O(N)\n",
    "# del O(1)\n",
    "\n",
    "def action(limit, dog):\n",
    "    answer = [i['name'] for i in dog]\n",
    "    for i in dog:\n",
    "        dog_position = 0\n",
    "        while dog_position < len(limit) - 1: # 돌다리를 건너는 동안\n",
    "            dog_position += int(i['jump']) # 자신의 점프력만큼 이동\n",
    "            limit[dog_position-1] -= int(i['weight']) # 해당 돌다리 내구도 몸무게만큼 감소\n",
    "            if limit[dog_position-1] < 0: # 돌다리의 내구도가 부서졌다면\n",
    "                del answer[answer.index(i['name'])] # 해당 개 이름을 삭제\n",
    "                break # 다음 for 문으로\n",
    "    return answer\n",
    "\n",
    "print(action(limit.copy(), dog.copy()))\n"
   ],
   "metadata": {
    "collapsed": false,
    "pycharm": {
     "name": "#%%\n"
    }
   }
  },
  {
   "cell_type": "code",
   "execution_count": 6,
   "outputs": [
    {
     "data": {
      "text/plain": "'['"
     },
     "execution_count": 6,
     "metadata": {},
     "output_type": "execute_result"
    }
   ],
   "source": [
    "import json\n",
    "json_dog = json.dumps(dog, ensure_ascii=False)\n",
    "json_dog[0]"
   ],
   "metadata": {
    "collapsed": false,
    "pycharm": {
     "name": "#%%\n"
    }
   }
  },
  {
   "cell_type": "code",
   "execution_count": 7,
   "outputs": [
    {
     "data": {
      "text/plain": "{'name': 'Ruby', 'age': '95', 'jump': '3', 'weight': '4'}"
     },
     "execution_count": 7,
     "metadata": {},
     "output_type": "execute_result"
    }
   ],
   "source": [
    "json_dog = json.loads(json_dog)\n",
    "json_dog[0]"
   ],
   "metadata": {
    "collapsed": false,
    "pycharm": {
     "name": "#%%\n"
    }
   }
  },
  {
   "cell_type": "code",
   "execution_count": 7,
   "outputs": [],
   "source": [
    "\n"
   ],
   "metadata": {
    "collapsed": false,
    "pycharm": {
     "name": "#%%\n"
    }
   }
  }
 ],
 "metadata": {
  "kernelspec": {
   "display_name": "Python 3",
   "language": "python",
   "name": "python3"
  },
  "language_info": {
   "codemirror_mode": {
    "name": "ipython",
    "version": 2
   },
   "file_extension": ".py",
   "mimetype": "text/x-python",
   "name": "python",
   "nbconvert_exporter": "python",
   "pygments_lexer": "ipython2",
   "version": "2.7.6"
  }
 },
 "nbformat": 4,
 "nbformat_minor": 0
}