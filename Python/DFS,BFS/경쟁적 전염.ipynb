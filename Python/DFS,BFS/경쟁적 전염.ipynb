{
 "cells": [
  {
   "cell_type": "markdown",
   "metadata": {
    "collapsed": true,
    "pycharm": {
     "name": "#%% md\n"
    }
   },
   "source": []
  },
  {
   "cell_type": "code",
   "execution_count": 1,
   "outputs": [
    {
     "name": "stdout",
     "output_type": "stream",
     "text": [
      "3\n"
     ]
    }
   ],
   "source": [
    "from collections import deque\n",
    "\n",
    "n, k = map(int, input().split())\n",
    "\n",
    "graph = [] # 전체 보드 정보를 담는 리스트\n",
    "data = [] # 바이러스에 대한 정보를 담는 리스트\n",
    "\n",
    "for i in range(n):\n",
    "    # 보드 정보를 한 줄 단위로 입력\n",
    "    graph.append(list(map(int, input().split())))\n",
    "    for j in range(n):\n",
    "        # 해당 위치가 바이러스가 존재하는 경우\n",
    "        if graph[i][j] != 0:\n",
    "            # (바이러스 종류, 시간, 위치 X, 위치 Y) 삽입\n",
    "            data.append((graph[i][j], 0, i, j))\n",
    "\n",
    "# 정렬 이후에 큐로 옮기기 (낮은 번호의 바이러스가 먼저 증식하므로)\n",
    "data.sort()\n",
    "q = deque(data)\n",
    "\n",
    "target_s, target_x, target_y = map(int, input().split())\n",
    "\n",
    "# 바이러스가 퍼져나갈 수 있는 4가지 위치\n",
    "dx = [-1, 0, 1, 0]\n",
    "dy = [0, 1, 0, -1]\n",
    "\n",
    "# 너비 우선 탐색(BFS) 진행\n",
    "while q:\n",
    "    virus, s, x, y = q.popleft()\n",
    "    # 정확히 s초가 지나거나, 큐가 빌 때까지 반복\n",
    "    if s == target_s:\n",
    "        break\n",
    "    # 현재 노드에서 주변 4가지 위치를 각각 확인\n",
    "    for i in range(4):\n",
    "        nx = x + dx[i]\n",
    "        ny = y + dy[i]\n",
    "        # 해당 위치를 이동할 수 있는 경우\n",
    "        if 0 <= nx < n and 0 <= ny < n:\n",
    "            # 아직 방문하지 않은 위치라면, 그 위치에 바이러스 넣기\n",
    "            if graph[nx][ny] == 0:\n",
    "                graph[nx][ny] = virus\n",
    "                q.append((virus, s + 1, nx, ny))\n",
    "\n",
    "print(graph[target_x - 1][target_y - 1])\n"
   ],
   "metadata": {
    "collapsed": false,
    "pycharm": {
     "name": "#%%\n"
    }
   }
  }
 ],
 "metadata": {
  "kernelspec": {
   "display_name": "Python 3",
   "language": "python",
   "name": "python3"
  },
  "language_info": {
   "codemirror_mode": {
    "name": "ipython",
    "version": 2
   },
   "file_extension": ".py",
   "mimetype": "text/x-python",
   "name": "python",
   "nbconvert_exporter": "python",
   "pygments_lexer": "ipython2",
   "version": "2.7.6"
  }
 },
 "nbformat": 4,
 "nbformat_minor": 0
}