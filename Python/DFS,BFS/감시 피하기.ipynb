{
 "cells": [
  {
   "cell_type": "markdown",
   "metadata": {
    "collapsed": true,
    "pycharm": {
     "name": "#%% md\n"
    }
   },
   "source": []
  },
  {
   "cell_type": "code",
   "execution_count": 1,
   "outputs": [
    {
     "name": "stdout",
     "output_type": "stream",
     "text": [
      "YES\n"
     ]
    }
   ],
   "source": [
    "from itertools import combinations\n",
    "\n",
    "n = int(input()) # 복도의 크기\n",
    "board = [] # 복도 정보(N x N)\n",
    "teachers = [] # 모든 선생님의 위치 정보\n",
    "spaces = [] # 모든 빈 공간 위치 정보\n",
    "\n",
    "for i in range(n):\n",
    "    board.append(list(input().split()))\n",
    "    for j in range(n):\n",
    "        # 선생님이 존재하는 위치 저장\n",
    "        if board[i][j] == 'T':\n",
    "            teachers.append((i, j))\n",
    "        # 장애물을 설치할 수 있는 빈 공간 위치 저장\n",
    "        if board[i][j] == 'X':\n",
    "            spaces.append((i, j))\n",
    "\n",
    "# 특정 방향으로 감시를 진행(학생 발견: True, 학생 미발견: False)\n",
    "def watch(x, y, direction):\n",
    "    # 왼쪽 방향으로 검사\n",
    "    if direction == 0:\n",
    "        while y >= 0:\n",
    "            if board[x][y] == 'S': # 학생이 있는 경우\n",
    "                return True\n",
    "            if board[x][y] == 'O': # 장애물이 있는 경우\n",
    "                return False\n",
    "            y -= 1\n",
    "    # 오른쪽 방향으로 검사\n",
    "    if direction == 1:\n",
    "        while y < n:\n",
    "            if board[x][y] == 'S': # 학생이 있는 경우\n",
    "                return True\n",
    "            if board[x][y] == 'O': # 장애물이 있는 경우\n",
    "                return False\n",
    "            y += 1\n",
    "    # 위쪽 방향으로 검사\n",
    "    if direction == 2:\n",
    "        while x >= 0:\n",
    "            if board[x][y] == 'S': # 학생이 있는 경우\n",
    "                return True\n",
    "            if board[x][y] == 'O': # 장애물이 있는 경우\n",
    "                return False\n",
    "            x -= 1\n",
    "    # 아래쪽 방향으로 검사\n",
    "    if direction == 3:\n",
    "        while x < n:\n",
    "            if board[x][y] == 'S': # 학생이 있는 경우\n",
    "                return True\n",
    "            if board[x][y] == 'O': # 장애물이 있는 경우\n",
    "                return False\n",
    "            x += 1\n",
    "    return False\n",
    "\n",
    "# 장애물 설치 이후에, 한명이라도 학생이 감지되는지 검사\n",
    "def process():\n",
    "    # 모든 성생님의 위치를 하나씩 확인\n",
    "    for x, y in teachers:\n",
    "        # 4가지 방향으로 학생을 감지할 수 있는지 확인\n",
    "        for i in range(4):\n",
    "            if watch(x, y, i):\n",
    "                return True\n",
    "    return False\n",
    "\n",
    "find = False # 학생이 한 명도 감지되지 않도록 설치할 수 있는지 여부\n",
    "\n",
    "# 빈 공간에 3개를 뽑는 모든 조합을 확인\n",
    "for data in combinations(spaces, 3):\n",
    "    # 장애물 설치해보기\n",
    "    for x, y in data:\n",
    "        board[x][y] = 'O'\n",
    "    # 학생이 한 명도 감지되지 않는 경우\n",
    "    if not process():\n",
    "        find = True\n",
    "        break\n",
    "    # 설치된 장애물을 다시 없애기\n",
    "    for x, y in data:\n",
    "        board[x][y] = 'X'\n",
    "\n",
    "if find:\n",
    "    print('YES')\n",
    "else:\n",
    "    print('NO')"
   ],
   "metadata": {
    "collapsed": false,
    "pycharm": {
     "name": "#%%\n"
    }
   }
  },
  {
   "cell_type": "code",
   "execution_count": null,
   "outputs": [],
   "source": [
    "\n"
   ],
   "metadata": {
    "collapsed": false,
    "pycharm": {
     "name": "#%%\n"
    }
   }
  }
 ],
 "metadata": {
  "kernelspec": {
   "display_name": "Python 3",
   "language": "python",
   "name": "python3"
  },
  "language_info": {
   "codemirror_mode": {
    "name": "ipython",
    "version": 2
   },
   "file_extension": ".py",
   "mimetype": "text/x-python",
   "name": "python",
   "nbconvert_exporter": "python",
   "pygments_lexer": "ipython2",
   "version": "2.7.6"
  }
 },
 "nbformat": 4,
 "nbformat_minor": 0
}