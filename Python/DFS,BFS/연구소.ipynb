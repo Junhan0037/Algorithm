{
 "cells": [
  {
   "cell_type": "markdown",
   "source": [],
   "metadata": {
    "collapsed": false
   }
  },
  {
   "cell_type": "code",
   "execution_count": 4,
   "outputs": [
    {
     "name": "stdout",
     "output_type": "stream",
     "text": [
      "9\n"
     ]
    }
   ],
   "source": [
    "n, m = map(int, input().split())\n",
    "data = [] # 초기 맵 리스트\n",
    "temp = [[0] * m for _ in range(n)] # 벽을 설치한 뒤의 맵 리스트\n",
    "\n",
    "for _ in range(n):\n",
    "    data.append(list(map(int ,input().split())))\n",
    "\n",
    "# 4가지 이동 방향에 대한 리스트\n",
    "dx = [-1, 0, 1, 0]\n",
    "dy = [0, 1, 0, -1]\n",
    "\n",
    "result = 0\n",
    "\n",
    "# 깊이 우선 탐색(DFS)을 이용해 각 바이러스가 사방으로 퍼지도록 하기\n",
    "def virus(x, y):\n",
    "    for i in range(4):\n",
    "        nx = x + dx[i]\n",
    "        ny = y + dy[i]\n",
    "        # 상, 하, 좌, 우 중에서 바이러스가 퍼질 수 있는 경우\n",
    "        if 0 <= nx < n and 0 <= ny < m:\n",
    "            if temp[nx][ny] == 0:\n",
    "                # 해당 위치에 바이러스 배치하고, 다시 재귀적으로 수행\n",
    "                temp[nx][ny] = 2\n",
    "                virus(nx, ny)\n",
    "\n",
    "# 현재 맵에서 안전 영역의 크기 계산하는 매서드\n",
    "def get_score():\n",
    "    score = 0\n",
    "    for i in range(n):\n",
    "        for j in range(m):\n",
    "            if temp[i][j] == 0:\n",
    "                score += 1\n",
    "    return score\n",
    "\n",
    "# 깊이 우선 탐색(DFS)를 이용해 울타리르 설치하면서, 매번 안전 영역의 크기 계산\n",
    "def dfs(count):\n",
    "    global result\n",
    "    # 울타리가 3개 설치된 경우\n",
    "    if count == 3:\n",
    "        for i in range(n):\n",
    "            for j in range(m):\n",
    "                temp[i][j] = data[i][j]\n",
    "        # 각 바이러스의 위치에서 전파 진행\n",
    "        for i in range(n):\n",
    "            for j in range(m):\n",
    "                if temp[i][j] == 2:\n",
    "                    virus(i, j)\n",
    "        # 안전 영역의 최댓값 계산\n",
    "        result = max(result, get_score())\n",
    "        return\n",
    "    # 빈 공간에 울타리 설치\n",
    "    for i in range(n):\n",
    "        for j in range(m):\n",
    "            if data[i][j] == 0:\n",
    "                data[i][j] = 1\n",
    "                count += 1\n",
    "                dfs(count)\n",
    "                data[i][j] = 0\n",
    "                count -= 1\n",
    "\n",
    "dfs(0)\n",
    "print(result)"
   ],
   "metadata": {
    "collapsed": false,
    "pycharm": {
     "name": "#%%\n"
    }
   }
  },
  {
   "cell_type": "code",
   "execution_count": null,
   "outputs": [],
   "source": [
    "\n"
   ],
   "metadata": {
    "collapsed": false,
    "pycharm": {
     "name": "#%%\n"
    }
   }
  }
 ],
 "metadata": {
  "kernelspec": {
   "display_name": "Python 3",
   "language": "python",
   "name": "python3"
  },
  "language_info": {
   "codemirror_mode": {
    "name": "ipython",
    "version": 2
   },
   "file_extension": ".py",
   "mimetype": "text/x-python",
   "name": "python",
   "nbconvert_exporter": "python",
   "pygments_lexer": "ipython2",
   "version": "2.7.6"
  }
 },
 "nbformat": 4,
 "nbformat_minor": 0
}