{
 "cells": [
  {
   "cell_type": "markdown",
   "metadata": {
    "collapsed": true,
    "pycharm": {
     "name": "#%% md\n"
    }
   },
   "source": []
  },
  {
   "cell_type": "code",
   "execution_count": 2,
   "outputs": [
    {
     "name": "stdout",
     "output_type": "stream",
     "text": [
      "2\n"
     ]
    }
   ],
   "source": [
    "from collections import deque\n",
    "\n",
    "# 땅의 크기(N), L, R 값 입력받기\n",
    "n, l, r = map(int, input().split())\n",
    "\n",
    "# 전체 나라의 정보(N x N)를 입력받기\n",
    "graph = []\n",
    "for _ in range(n):\n",
    "    graph.append(list(map(int, input().split())))\n",
    "\n",
    "dx = [-1, 0, 1, 0]\n",
    "dy = [0, -1 ,0, 1]\n",
    "\n",
    "result = 0\n",
    "\n",
    "# 특정 위치에서 출발하여 모든 연합을 체크한 뒤에 데이터 갱신\n",
    "def process(x, y, index):\n",
    "    # (x, y)의 위치와 연결된 나라(연합) 정보를 담는 리스트\n",
    "    united = []\n",
    "    united.append((x, y))\n",
    "    # 너비 우선 탐색(BFS)을 위한 큐 자료구조 정의\n",
    "    q = deque()\n",
    "    q.append((x, y))\n",
    "    union[x][y] = index # 현재 연합의 번호 할당\n",
    "    summary = graph[x][y] # 현재 연합의 전체 인구 수\n",
    "    count = 1 # 현재 연합의 국가 수\n",
    "    # 큐가 빌 때까지 반복(BFS)\n",
    "    while q:\n",
    "        x, y = q.popleft()\n",
    "        # 현재 위치에서 4가지 방향을 확인하며\n",
    "        for i in range(4):\n",
    "            nx = x + dx[i]\n",
    "            ny = y + dy[i]\n",
    "            # 바로 옆에 있는 나라를 확인하며\n",
    "            if 0 <= nx < n and 0 <= ny < n and union[nx][ny] == -1:\n",
    "                # 옆에 있는 나라의 인구 차이가 L명 이상, R명 이하라면\n",
    "                if l <= abs(graph[nx][ny] - graph[x][y]) <= r:\n",
    "                    q.append((nx, ny))\n",
    "                    # 연합에 추가\n",
    "                    union[nx][ny] = index\n",
    "                    summary += graph[nx][ny]\n",
    "                    count += 1\n",
    "                    united.append((nx, ny))\n",
    "    # 연합 국가끼리 인구를 분해\n",
    "    for i, j in united:\n",
    "        graph[i][j] = summary // count\n",
    "    return count\n",
    "\n",
    "total_count = 0\n",
    "\n",
    "# 더 이상 인구 이동을 할 수 없을 때까지 반복\n",
    "while True:\n",
    "    union = [[-1] * n for _ in range(n)]\n",
    "    index = 0\n",
    "    for i in range(n):\n",
    "        for j in range(n):\n",
    "            if union[i][j] == -1: # 해당 나라가 아직 처리되지 않았다면\n",
    "                process(i, j, index)\n",
    "                index += 1\n",
    "    # 모든 인구 이동이 끝난 후\n",
    "    if index == n * n:\n",
    "        break\n",
    "    total_count += 1\n",
    "\n",
    "# 인구 이동 휫수 출력\n",
    "print(total_count)"
   ],
   "metadata": {
    "collapsed": false,
    "pycharm": {
     "name": "#%%\n"
    }
   }
  },
  {
   "cell_type": "code",
   "execution_count": null,
   "outputs": [],
   "source": [
    "\n"
   ],
   "metadata": {
    "collapsed": false,
    "pycharm": {
     "name": "#%%\n"
    }
   }
  }
 ],
 "metadata": {
  "kernelspec": {
   "display_name": "Python 3",
   "language": "python",
   "name": "python3"
  },
  "language_info": {
   "codemirror_mode": {
    "name": "ipython",
    "version": 2
   },
   "file_extension": ".py",
   "mimetype": "text/x-python",
   "name": "python",
   "nbconvert_exporter": "python",
   "pygments_lexer": "ipython2",
   "version": "2.7.6"
  }
 },
 "nbformat": 4,
 "nbformat_minor": 0
}