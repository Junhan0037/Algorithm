{
 "cells": [
  {
   "cell_type": "markdown",
   "metadata": {
    "collapsed": true,
    "pycharm": {
     "name": "#%% md\n"
    }
   },
   "source": [
    "### 1. 병합 정렬 (merge sort)\n",
    "* 재귀용법을 활용한 정렬 알고리즘\n",
    "  1. 리스트를 절반으로 잘라 비슷한 크기의 두 부분 리스트로 나눈다.\n",
    "  2. 각 부분 리스트를 재귀적으로 합병 정렬을 이용해 정렬한다.\n",
    "  3. 두 부분 리스트를 다시 하나의 정렬된 리스트로 합병한다.\n",
    "\n",
    "#### 직접 눈으로 보면 더 이해가 쉽다: https://visualgo.net/en/sorting\n",
    "\n",
    "<img src=\"https://upload.wikimedia.org/wikipedia/commons/c/cc/Merge-sort-example-300px.gif\" width=500/>\n",
    "\n",
    "출처: [위키피디아](https://ko.wikipedia.org/wiki/%ED%95%A9%EB%B3%91_%EC%A0%95%EB%A0%AC)"
   ]
  },
  {
   "cell_type": "code",
   "execution_count": 1,
   "outputs": [],
   "source": [
    "def split(data):\n",
    "    medium = int(len(data)/2)\n",
    "    left = data[:medium]\n",
    "    right = data[medium:]\n",
    "    print(left, right)"
   ],
   "metadata": {
    "collapsed": false,
    "pycharm": {
     "name": "#%%\n"
    }
   }
  },
  {
   "cell_type": "code",
   "execution_count": 2,
   "outputs": [],
   "source": [
    "data_list = [3, 4, 1, 3, 2]\n",
    "split(data_list)"
   ],
   "metadata": {
    "collapsed": false,
    "pycharm": {
     "name": "#%%\n"
    }
   }
  },
  {
   "cell_type": "code",
   "execution_count": 3,
   "outputs": [],
   "source": [
    "def merge(left, right):\n",
    "    merged = list()\n",
    "    left_point, right_point = 0, 0\n",
    "\n",
    "    # case1 : left/right 아직 남아있을 때\n",
    "    while len(left) > left_point and len(right) > right_point:\n",
    "        if left[left_point] > right[right_point]:\n",
    "            merged.append(right[right_point])\n",
    "            right_point += 1\n",
    "        else:\n",
    "            merged.append(left[left_point])\n",
    "            left_point += 1\n",
    "\n",
    "    # case2 : left 만 남아있을 때\n",
    "    while len(left) > left_point:\n",
    "        merged.append(left[left_point])\n",
    "        left_point += 1\n",
    "\n",
    "    # case3 : right 만 남아있을 때\n",
    "    while len(right) > right_point:\n",
    "        merged.append(right[right_point])\n",
    "        right_point += 1\n",
    "\n",
    "    return merged\n",
    "\n",
    "def mergesplit(data):\n",
    "    if len(data) <= 1:\n",
    "        return data\n",
    "    medium = int(len(data)/2)\n",
    "    left = mergesplit(data[:medium])\n",
    "    right = mergesplit(data[medium:])\n",
    "    return merge(left, right)"
   ],
   "metadata": {
    "collapsed": false,
    "pycharm": {
     "name": "#%%\n"
    }
   }
  },
  {
   "cell_type": "code",
   "execution_count": 4,
   "outputs": [
    {
     "data": {
      "text/plain": "[11, 22, 37, 42, 45, 48, 67, 77, 89, 97]"
     },
     "execution_count": 4,
     "metadata": {},
     "output_type": "execute_result"
    }
   ],
   "source": [
    "import random\n",
    "data_list = random.sample(range(100), 10)\n",
    "mergesplit(data_list)"
   ],
   "metadata": {
    "collapsed": false,
    "pycharm": {
     "name": "#%%\n"
    }
   }
  },
  {
   "cell_type": "markdown",
   "source": [
    "### 4. 알고리즘 분석\n",
    "* 알고리즘 분석은 쉽지 않음, <font color='#BF360C'>이 부분은 참고로만 알아두자.</font>\n",
    "  - 다음을 보고 이해해보자\n",
    "    - 몇 단계 깊이까지 만들어지는지를 depth 라고 하고 i로 놓자. 맨 위 단계는 0으로 놓자.\n",
    "      - 다음 그림에서 n/$2^2$ 는 2단계 깊이라고 해보자.\n",
    "      - 각 단계에 있는 하나의 노드 안의 리스트 길이는 n/$2^2$ 가 된다.\n",
    "      - 각 단계에는 $2^i$ 개의 노드가 있다.\n",
    "    - 따라서, 각 단계는 항상 <font size=4em>$2^i * \\frac { n }{ 2^i } = O(n)$</font>\n",
    "    - 단계는 항상 $log_2 n$ 개 만큼 만들어짐, 시간 복잡도는 결국 O(log n), 2는 역시 상수이므로 삭제\n",
    "    - 따라서, 단계별 시간 복잡도 O(n) * O(log n) = O(n log n)\n",
    "\n",
    "<img src=\"https://www.fun-coding.org/00_Images/mergesortcomplexity.png\" />"
   ],
   "metadata": {
    "collapsed": false,
    "pycharm": {
     "name": "#%% md\n"
    }
   }
  },
  {
   "cell_type": "code",
   "execution_count": 4,
   "outputs": [],
   "source": [
    "\n"
   ],
   "metadata": {
    "collapsed": false,
    "pycharm": {
     "name": "#%%\n"
    }
   }
  }
 ],
 "metadata": {
  "kernelspec": {
   "display_name": "Python 3",
   "language": "python",
   "name": "python3"
  },
  "language_info": {
   "codemirror_mode": {
    "name": "ipython",
    "version": 2
   },
   "file_extension": ".py",
   "mimetype": "text/x-python",
   "name": "python",
   "nbconvert_exporter": "python",
   "pygments_lexer": "ipython2",
   "version": "2.7.6"
  }
 },
 "nbformat": 4,
 "nbformat_minor": 0
}