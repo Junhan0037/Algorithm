{
 "cells": [
  {
   "cell_type": "markdown",
   "metadata": {
    "collapsed": true,
    "pycharm": {
     "name": "#%% md\n"
    }
   },
   "source": [
    "<div class=\"alert alert-block alert-warning\">\n",
    "<strong><font color=\"blue\" size=\"4em\">프로그래밍 연습</font></strong><br>\n",
    "피보나치 수열: n 을 입력받아서 다음과 같이 계산됨<br>\n",
    "n 을 입력받았을 때 피보나치 수열로 결과값을 출력하세요<br>\n",
    "</div>\n",
    "<img src=\"https://www.fun-coding.org/00_Images/Fibonacci.png\" />\n",
    "<pre>\n",
    "함수를 fibonacci 라고 하면,\n",
    "fibonacci(0):0\n",
    "fibonacci(1):1\n",
    "fibonacci(2):1\n",
    "fibonacci(3):2\n",
    "fibonacci(4):3\n",
    "fibonacci(5):5\n",
    "fibonacci(6):8\n",
    "fibonacci(7):13\n",
    "fibonacci(8):21\n",
    "fibonacci(9):34\n",
    "</pre>\n",
    "\n",
    "<img src=\"https://www.fun-coding.org/00_Images/dp.png\" />"
   ]
  },
  {
   "cell_type": "code",
   "execution_count": 1,
   "outputs": [],
   "source": [
    "# 피보나치 수열\n",
    "def fibo(num):\n",
    "    if num <= 1:\n",
    "        return num\n",
    "    return fibo(num-1) + fibo(num-2)"
   ],
   "metadata": {
    "collapsed": false,
    "pycharm": {
     "name": "#%%\n"
    }
   }
  },
  {
   "cell_type": "code",
   "execution_count": 2,
   "outputs": [
    {
     "data": {
      "text/plain": "3"
     },
     "execution_count": 2,
     "metadata": {},
     "output_type": "execute_result"
    }
   ],
   "source": [
    "fibo(4)"
   ],
   "metadata": {
    "collapsed": false,
    "pycharm": {
     "name": "#%%\n"
    }
   }
  },
  {
   "cell_type": "code",
   "execution_count": 5,
   "outputs": [],
   "source": [
    "# 피보나치 수열 (동적계획법 활용)\n",
    "def fibo_dp(num):\n",
    "    cache = [0 for index in range(num + 1)]\n",
    "    cache[0] = 0\n",
    "    cache[1] = 1\n",
    "\n",
    "    for index in range(2, num + 1):\n",
    "        cache[index] = cache[index-1] + cache[index-2]\n",
    "    return cache[num]"
   ],
   "metadata": {
    "collapsed": false,
    "pycharm": {
     "name": "#%%\n"
    }
   }
  },
  {
   "cell_type": "code",
   "execution_count": 6,
   "outputs": [
    {
     "data": {
      "text/plain": "3"
     },
     "execution_count": 6,
     "metadata": {},
     "output_type": "execute_result"
    }
   ],
   "source": [
    "fibo_dp(4)"
   ],
   "metadata": {
    "collapsed": false,
    "pycharm": {
     "name": "#%%\n"
    }
   }
  },
  {
   "cell_type": "code",
   "execution_count": null,
   "outputs": [],
   "source": [
    "\n"
   ],
   "metadata": {
    "collapsed": false,
    "pycharm": {
     "name": "#%%\n"
    }
   }
  }
 ],
 "metadata": {
  "kernelspec": {
   "display_name": "Python 3",
   "language": "python",
   "name": "python3"
  },
  "language_info": {
   "codemirror_mode": {
    "name": "ipython",
    "version": 2
   },
   "file_extension": ".py",
   "mimetype": "text/x-python",
   "name": "python",
   "nbconvert_exporter": "python",
   "pygments_lexer": "ipython2",
   "version": "2.7.6"
  }
 },
 "nbformat": 4,
 "nbformat_minor": 0
}