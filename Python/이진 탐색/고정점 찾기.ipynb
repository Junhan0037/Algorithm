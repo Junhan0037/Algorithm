{
 "cells": [
  {
   "cell_type": "markdown",
   "metadata": {
    "collapsed": true,
    "pycharm": {
     "name": "#%% md\n"
    }
   },
   "source": []
  },
  {
   "cell_type": "code",
   "execution_count": 3,
   "outputs": [
    {
     "name": "stdout",
     "output_type": "stream",
     "text": [
      "2\n"
     ]
    }
   ],
   "source": [
    "# 이진 탐색 소스코드 구현(재귀 함수)\n",
    "def binary_search(array, start, end):\n",
    "    if start > end:\n",
    "        return None\n",
    "    mid = (start + end) // 2\n",
    "    # 고정점을 찾은 경우 인덱스 반환\n",
    "    if array[mid] == mid:\n",
    "        return mid\n",
    "    # 중간점이 가리키는 위치의 값보다 중간점이 작은 경우 왼쪽 확인\n",
    "    elif array[mid] > mid:\n",
    "        return binary_search(array, start, mid - 1)\n",
    "    # 중간점이 가리키는 위치의 값보다 중간점이 큰 경우 오른쪽 확인\n",
    "    else:\n",
    "        return binary_search(array, mid + 1, end)\n",
    "\n",
    "n = int(input())\n",
    "array = list(map(int, input().split()))\n",
    "\n",
    "# 이진 탐색 수행\n",
    "index = binary_search(array, 0, n - 1)\n",
    "\n",
    "# 고정점이 없는 경우 -1 출력\n",
    "if index == None:\n",
    "    print(-1)\n",
    "else:\n",
    "    print(index)"
   ],
   "metadata": {
    "collapsed": false,
    "pycharm": {
     "name": "#%%\n"
    }
   }
  },
  {
   "cell_type": "code",
   "execution_count": null,
   "outputs": [],
   "source": [
    "\n"
   ],
   "metadata": {
    "collapsed": false,
    "pycharm": {
     "name": "#%%\n"
    }
   }
  }
 ],
 "metadata": {
  "kernelspec": {
   "display_name": "Python 3",
   "language": "python",
   "name": "python3"
  },
  "language_info": {
   "codemirror_mode": {
    "name": "ipython",
    "version": 2
   },
   "file_extension": ".py",
   "mimetype": "text/x-python",
   "name": "python",
   "nbconvert_exporter": "python",
   "pygments_lexer": "ipython2",
   "version": "2.7.6"
  }
 },
 "nbformat": 4,
 "nbformat_minor": 0
}