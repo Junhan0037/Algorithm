{
 "cells": [
  {
   "cell_type": "markdown",
   "metadata": {
    "collapsed": true,
    "pycharm": {
     "name": "#%% md\n"
    }
   },
   "source": []
  },
  {
   "cell_type": "code",
   "execution_count": 1,
   "outputs": [],
   "source": [
    "# 현재 설치된 구조물이 가능한 구조물인지 확인하는 함수\n",
    "def possible(answer):\n",
    "    for x, y, stuff in answer:\n",
    "        if stuff == 0: # 설치된 것이 '기둥'인 경우\n",
    "            # '바닥 위' 혹은 '보의 한쪽 끝부분 위' 혹은 '다른 기둥 위'라면 정상\n",
    "            if y == 0 or [x-1, y, 1] in answer or [x, y, 1] in answer or [x, y-1, 0] in answer:\n",
    "                continue\n",
    "            return False # 아니라면 거짓 반환\n",
    "        elif stuff == 1: # 설치된 것이 '보'인 경우\n",
    "            # '한쪽 끝부분이 기둥 위' 혹은 '양쪽 끝부분이 다른 보와 동시에 연결'이라면 정상\n",
    "            if [x, y-1, 0] in answer or [x+1, y-1, 0] in answer or ([x-1, y, 1] in answer and [x+1, y, 1] in answer):\n",
    "                continue\n",
    "            return False\n",
    "    return True\n",
    "\n",
    "def solution(n, build_frame):\n",
    "    answer = []\n",
    "    for frame in build_frame:\n",
    "        x, y, stuff, operate = frame\n",
    "        if operate == 0: # 삭제하는 경우\n",
    "            answer.remove([x, y, stuff]) # 일단 삭제를 해본 뒤에\n",
    "            if not possible(answer): # 가능한 구조물인지 확인\n",
    "                answer.append([x, y, stuff]) # 가능한 구조물이 아니라면 다시 설치\n",
    "        if operate == 1: # 설치하는 경우\n",
    "            answer.append([x, y, stuff]) # 일단 설치를 해본 뒤에\n",
    "            if not possible(answer): # 가능한 구조물인지 확인\n",
    "                answer.remove([x, y, stuff]) # 가능한 구조물이 아니라면 다시 제거\n",
    "    return sorted(answer) # 정렬된 결과를 반환"
   ],
   "metadata": {
    "collapsed": false,
    "pycharm": {
     "name": "#%%\n"
    }
   }
  },
  {
   "cell_type": "code",
   "execution_count": 4,
   "outputs": [
    {
     "name": "stdout",
     "output_type": "stream",
     "text": [
      "wow\n"
     ]
    }
   ],
   "source": [],
   "metadata": {
    "collapsed": false,
    "pycharm": {
     "name": "#%%\n"
    }
   }
  }
 ],
 "metadata": {
  "kernelspec": {
   "display_name": "Python 3",
   "language": "python",
   "name": "python3"
  },
  "language_info": {
   "codemirror_mode": {
    "name": "ipython",
    "version": 2
   },
   "file_extension": ".py",
   "mimetype": "text/x-python",
   "name": "python",
   "nbconvert_exporter": "python",
   "pygments_lexer": "ipython2",
   "version": "2.7.6"
  }
 },
 "nbformat": 4,
 "nbformat_minor": 0
}