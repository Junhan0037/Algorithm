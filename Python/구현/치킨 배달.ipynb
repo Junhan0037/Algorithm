{
 "cells": [
  {
   "cell_type": "markdown",
   "metadata": {
    "collapsed": true,
    "pycharm": {
     "name": "#%% md\n"
    }
   },
   "source": []
  },
  {
   "cell_type": "code",
   "execution_count": 1,
   "outputs": [
    {
     "name": "stdout",
     "output_type": "stream",
     "text": [
      "5\n"
     ]
    }
   ],
   "source": [
    "from itertools import combinations\n",
    "\n",
    "n, m = map(int, input().split())\n",
    "chicken, house = [], []\n",
    "\n",
    "for r in range(n):\n",
    "    data = list(map(int, input().split()))\n",
    "    for c in range(n):\n",
    "        if data[c] == 1:\n",
    "            house.append((r, c))\n",
    "        elif data[c] == 2:\n",
    "            chicken.append((r, c))\n",
    "\n",
    "# 모든 치킨집 중에서 m개의 치킨집을 뽑는 조합 계산\n",
    "candidates = list(combinations(chicken, m))\n",
    "\n",
    "# 치킨 거리의 합을 계산하는 함수\n",
    "def get_sum(candidates):\n",
    "    result = 0\n",
    "    # 모든 집에 대하여\n",
    "    for hx, hy in house:\n",
    "        # 가장 가까운 치킨집을 찾기\n",
    "        temp = 1e9\n",
    "        for cx, cy in candidates:\n",
    "            temp = min(temp, abs(hx - cx) + abs(hy - cy))\n",
    "        # 가장 가까운 치킨집까지의 거리를 더하기\n",
    "        result += temp\n",
    "    return result\n",
    "\n",
    "# 치킨 거리의 합의 최소를 찾아 출력\n",
    "result = 1e9\n",
    "for candiate in candidates:\n",
    "    result = min(result, get_sum(candiate))\n",
    "\n",
    "print(result)\n"
   ],
   "metadata": {
    "collapsed": false,
    "pycharm": {
     "name": "#%%\n"
    }
   }
  }
 ],
 "metadata": {
  "kernelspec": {
   "display_name": "Python 3",
   "language": "python",
   "name": "python3"
  },
  "language_info": {
   "codemirror_mode": {
    "name": "ipython",
    "version": 2
   },
   "file_extension": ".py",
   "mimetype": "text/x-python",
   "name": "python",
   "nbconvert_exporter": "python",
   "pygments_lexer": "ipython2",
   "version": "2.7.6"
  }
 },
 "nbformat": 4,
 "nbformat_minor": 0
}